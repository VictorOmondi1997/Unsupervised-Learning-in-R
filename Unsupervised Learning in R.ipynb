{
 "cells": [
  {
   "cell_type": "markdown",
   "metadata": {},
   "source": [
    "# Unsupervised Learning in R\n",
    "\n",
    "> clustering and dimensionality reduction in R from a machine learning perspective\n",
    "\n",
    "- author: Victor Omondi\n",
    "- toc: true\n",
    "- comments: true\n",
    "- categories: [unsupervised-learning, machine-learning, r]\n",
    "- image: images/ield.png"
   ]
  },
  {
   "cell_type": "markdown",
   "metadata": {},
   "source": [
    "# Overview\n",
    "\n",
    "Many times in machine learning, the goal is to find patterns in data without trying to make predictions. This is called unsupervised learning. One common use case of unsupervised learning is grouping consumers based on demographics and purchasing history to deploy targeted marketing campaigns. Another example is wanting to describe the unmeasured factors that most influence crime differences between cities. We will cover basic introduction to clustering and dimensionality reduction in R from a machine learning perspective, so that we can get from data to insights as quickly as possible.\n"
   ]
  },
  {
   "cell_type": "markdown",
   "metadata": {},
   "source": [
    "# Libraries"
   ]
  },
  {
   "cell_type": "code",
   "execution_count": 1,
   "metadata": {},
   "outputs": [
    {
     "name": "stderr",
     "output_type": "stream",
     "text": [
      "Warning message:\n",
      "\"package 'readr' was built under R version 3.6.3\"Warning message:\n",
      "\"package 'dplyr' was built under R version 3.6.3\"\n",
      "Attaching package: 'dplyr'\n",
      "\n",
      "The following objects are masked from 'package:stats':\n",
      "\n",
      "    filter, lag\n",
      "\n",
      "The following objects are masked from 'package:base':\n",
      "\n",
      "    intersect, setdiff, setequal, union\n",
      "\n"
     ]
    }
   ],
   "source": [
    "library(readr)\n",
    "library(ggplot2)\n",
    "library(dplyr)"
   ]
  },
  {
   "cell_type": "code",
   "execution_count": null,
   "metadata": {},
   "outputs": [],
   "source": []
  },
  {
   "cell_type": "markdown",
   "metadata": {},
   "source": [
    "# Unsupervised learning in R\n",
    "\n",
    "The k-means algorithm is one common approach to clustering. We will explore how the algorithm works under the hood, implement k-means clustering in R, visualize and interpret the results, and select the number of clusters when it's not known ahead of time. We'll have applied k-means clustering to a fun \"real-world\" dataset!"
   ]
  },
  {
   "cell_type": "markdown",
   "metadata": {},
   "source": [
    "### Types of machine learning\n",
    "- Unsupervised learning\n",
    "  - Finding structure in unlabeled data\n",
    "- Supervised learning\n",
    "  - Making predictions based on labeled data\n",
    "  - Predictions like regression or classication\n",
    "- Reinforcement learning"
   ]
  },
  {
   "cell_type": "markdown",
   "metadata": {},
   "source": [
    "### Unsupervised learning - clustering\n",
    "- Finding homogeneous subgroups within larger group \n",
    "- _People have features such as income, education attainment, and gender_\n"
   ]
  },
  {
   "cell_type": "markdown",
   "metadata": {},
   "source": [
    "### Unsupervised learning - dimensionality reduction\n",
    "- Finding homogeneous subgroups within larger group\n",
    "  - Clustering\n",
    "- Finding patterns in the features of the data\n",
    "  - Dimensionality reduction\n",
    "    - Find patterns in the features of the data\n",
    "    - Visualization of high dimensional data\n",
    "    - Pre-processing before supervised learning\n"
   ]
  },
  {
   "cell_type": "markdown",
   "metadata": {},
   "source": [
    "### Challenges and benefits\n",
    "- No single goal of analysis\n",
    "- Requires more creativity\n",
    "- Much more unlabeled data available than cleanly labeled data\n"
   ]
  },
  {
   "cell_type": "markdown",
   "metadata": {},
   "source": [
    "## Introduction to k-means clustering\n",
    "\n",
    "### k-means clustering algorithm\n",
    "- Breaks observations into pre-dened number of clusters\n",
    "\n",
    "### k-means in R\n",
    "\n",
    "- One observation per row, one feature per column\n",
    "- k-means has a random component\n",
    "- Run algorithm multiple times to improve odds of the best model\n"
   ]
  },
  {
   "cell_type": "code",
   "execution_count": 2,
   "metadata": {},
   "outputs": [
    {
     "name": "stderr",
     "output_type": "stream",
     "text": [
      "Parsed with column specification:\n",
      "cols(\n",
      "  V1 = col_double(),\n",
      "  V2 = col_double()\n",
      ")\n"
     ]
    },
    {
     "data": {
      "text/html": [
       "'matrix'"
      ],
      "text/latex": [
       "'matrix'"
      ],
      "text/markdown": [
       "'matrix'"
      ],
      "text/plain": [
       "[1] \"matrix\""
      ]
     },
     "metadata": {},
     "output_type": "display_data"
    }
   ],
   "source": [
    "x <- as.matrix(x_df <- read_csv(\"datasets/x.csv\"))\n",
    "class(x)"
   ]
  },
  {
   "cell_type": "code",
   "execution_count": 3,
   "metadata": {},
   "outputs": [
    {
     "data": {
      "text/html": [
       "<table>\n",
       "<thead><tr><th scope=col>V1</th><th scope=col>V2</th></tr></thead>\n",
       "<tbody>\n",
       "\t<tr><td>3.370958</td><td>1.995379</td></tr>\n",
       "\t<tr><td>1.435302</td><td>2.760242</td></tr>\n",
       "\t<tr><td>2.363128</td><td>2.038991</td></tr>\n",
       "\t<tr><td>2.632863</td><td>2.735072</td></tr>\n",
       "\t<tr><td>2.404268</td><td>1.853527</td></tr>\n",
       "\t<tr><td>1.893875</td><td>1.942113</td></tr>\n",
       "</tbody>\n",
       "</table>\n"
      ],
      "text/latex": [
       "\\begin{tabular}{ll}\n",
       " V1 & V2\\\\\n",
       "\\hline\n",
       "\t 3.370958 & 1.995379\\\\\n",
       "\t 1.435302 & 2.760242\\\\\n",
       "\t 2.363128 & 2.038991\\\\\n",
       "\t 2.632863 & 2.735072\\\\\n",
       "\t 2.404268 & 1.853527\\\\\n",
       "\t 1.893875 & 1.942113\\\\\n",
       "\\end{tabular}\n"
      ],
      "text/markdown": [
       "\n",
       "| V1 | V2 |\n",
       "|---|---|\n",
       "| 3.370958 | 1.995379 |\n",
       "| 1.435302 | 2.760242 |\n",
       "| 2.363128 | 2.038991 |\n",
       "| 2.632863 | 2.735072 |\n",
       "| 2.404268 | 1.853527 |\n",
       "| 1.893875 | 1.942113 |\n",
       "\n"
      ],
      "text/plain": [
       "     V1       V2      \n",
       "[1,] 3.370958 1.995379\n",
       "[2,] 1.435302 2.760242\n",
       "[3,] 2.363128 2.038991\n",
       "[4,] 2.632863 2.735072\n",
       "[5,] 2.404268 1.853527\n",
       "[6,] 1.893875 1.942113"
      ]
     },
     "metadata": {},
     "output_type": "display_data"
    }
   ],
   "source": [
    "head(x)"
   ]
  },
  {
   "cell_type": "markdown",
   "metadata": {},
   "source": [
    "### k-means clustering\n",
    "\n",
    "We have created some two-dimensional data and stored it in a variable called `x`."
   ]
  },
  {
   "cell_type": "code",
   "execution_count": 4,
   "metadata": {},
   "outputs": [
    {
     "data": {
      "image/png": "[encoded data removed]",
      "text/plain": [
       "plot without title"
      ]
     },
     "metadata": {},
     "output_type": "display_data"
    }
   ],
   "source": [
    "x_df %>%\n",
    "    ggplot(aes(x=V1, y=V2)) +\n",
    "    geom_point()"
   ]
  },
  {
   "cell_type": "markdown",
   "metadata": {},
   "source": [
    "The scatter plot on the above is a visual representation of the data.\n",
    "\n",
    "We will create a k-means model of the `x` data using 3 clusters, then to look at the structure of the resulting model using the `summary()` function."
   ]
  },
  {
   "cell_type": "code",
   "execution_count": 5,
   "metadata": {},
   "outputs": [
    {
     "data": {
      "text/plain": [
       "             Length Class  Mode   \n",
       "cluster      300    -none- numeric\n",
       "centers        6    -none- numeric\n",
       "totss          1    -none- numeric\n",
       "withinss       3    -none- numeric\n",
       "tot.withinss   1    -none- numeric\n",
       "betweenss      1    -none- numeric\n",
       "size           3    -none- numeric\n",
       "iter           1    -none- numeric\n",
       "ifault         1    -none- numeric"
      ]
     },
     "metadata": {},
     "output_type": "display_data"
    }
   ],
   "source": [
    "# Create the k-means model: km.out\n",
    "km.out_x <- kmeans(x, centers=3, nstart=20)\n",
    "\n",
    "# Inspect the result\n",
    "summary(km.out_x)"
   ]
  },
  {
   "cell_type": "markdown",
   "metadata": {},
   "source": [
    "### Results of kmeans()\n",
    "\n",
    "The `kmeans()` function produces several outputs. One is the output of modeling, the cluster membership. We will access the `cluster` component directly. This is useful anytime we need the cluster membership for each observation of the data used to build the clustering model. This cluster membership might be used to help communicate the results of k-means modeling.\n",
    "\n",
    "`k-means` models also have a print method to give a human friendly output of basic modeling results. This is available by using `print()` or simply typing the name of the model."
   ]
  },
  {
   "cell_type": "code",
   "execution_count": 6,
   "metadata": {},
   "outputs": [
    {
     "data": {
      "text/html": [
       "<ol class=list-inline>\n",
       "\t<li>1</li>\n",
       "\t<li>1</li>\n",
       "\t<li>1</li>\n",
       "\t<li>1</li>\n",
       "\t<li>1</li>\n",
       "\t<li>1</li>\n",
       "\t<li>1</li>\n",
       "\t<li>1</li>\n",
       "\t<li>1</li>\n",
       "\t<li>1</li>\n",
       "\t<li>1</li>\n",
       "\t<li>1</li>\n",
       "\t<li>2</li>\n",
       "\t<li>1</li>\n",
       "\t<li>1</li>\n",
       "\t<li>1</li>\n",
       "\t<li>1</li>\n",
       "\t<li>2</li>\n",
       "\t<li>2</li>\n",
       "\t<li>1</li>\n",
       "\t<li>1</li>\n",
       "\t<li>1</li>\n",
       "\t<li>1</li>\n",
       "\t<li>1</li>\n",
       "\t<li>1</li>\n",
       "\t<li>1</li>\n",
       "\t<li>1</li>\n",
       "\t<li>1</li>\n",
       "\t<li>1</li>\n",
       "\t<li>1</li>\n",
       "\t<li>1</li>\n",
       "\t<li>1</li>\n",
       "\t<li>1</li>\n",
       "\t<li>1</li>\n",
       "\t<li>1</li>\n",
       "\t<li>1</li>\n",
       "\t<li>2</li>\n",
       "\t<li>2</li>\n",
       "\t<li>2</li>\n",
       "\t<li>1</li>\n",
       "\t<li>1</li>\n",
       "\t<li>1</li>\n",
       "\t<li>1</li>\n",
       "\t<li>2</li>\n",
       "\t<li>1</li>\n",
       "\t<li>1</li>\n",
       "\t<li>1</li>\n",
       "\t<li>1</li>\n",
       "\t<li>1</li>\n",
       "\t<li>1</li>\n",
       "\t<li>1</li>\n",
       "\t<li>1</li>\n",
       "\t<li>1</li>\n",
       "\t<li>1</li>\n",
       "\t<li>1</li>\n",
       "\t<li>1</li>\n",
       "\t<li>1</li>\n",
       "\t<li>1</li>\n",
       "\t<li>2</li>\n",
       "\t<li>1</li>\n",
       "\t<li>1</li>\n",
       "\t<li>1</li>\n",
       "\t<li>1</li>\n",
       "\t<li>1</li>\n",
       "\t<li>1</li>\n",
       "\t<li>1</li>\n",
       "\t<li>1</li>\n",
       "\t<li>1</li>\n",
       "\t<li>1</li>\n",
       "\t<li>1</li>\n",
       "\t<li>1</li>\n",
       "\t<li>1</li>\n",
       "\t<li>1</li>\n",
       "\t<li>2</li>\n",
       "\t<li>1</li>\n",
       "\t<li>1</li>\n",
       "\t<li>1</li>\n",
       "\t<li>1</li>\n",
       "\t<li>1</li>\n",
       "\t<li>1</li>\n",
       "\t<li>1</li>\n",
       "\t<li>1</li>\n",
       "\t<li>1</li>\n",
       "\t<li>1</li>\n",
       "\t<li>1</li>\n",
       "\t<li>1</li>\n",
       "\t<li>1</li>\n",
       "\t<li>1</li>\n",
       "\t<li>1</li>\n",
       "\t<li>1</li>\n",
       "\t<li>1</li>\n",
       "\t<li>1</li>\n",
       "\t<li>1</li>\n",
       "\t<li>1</li>\n",
       "\t<li>1</li>\n",
       "\t<li>1</li>\n",
       "\t<li>1</li>\n",
       "\t<li>1</li>\n",
       "\t<li>1</li>\n",
       "\t<li>1</li>\n",
       "\t<li>3</li>\n",
       "\t<li>3</li>\n",
       "\t<li>3</li>\n",
       "\t<li>3</li>\n",
       "\t<li>3</li>\n",
       "\t<li>3</li>\n",
       "\t<li>3</li>\n",
       "\t<li>3</li>\n",
       "\t<li>3</li>\n",
       "\t<li>3</li>\n",
       "\t<li>3</li>\n",
       "\t<li>3</li>\n",
       "\t<li>3</li>\n",
       "\t<li>3</li>\n",
       "\t<li>3</li>\n",
       "\t<li>3</li>\n",
       "\t<li>3</li>\n",
       "\t<li>3</li>\n",
       "\t<li>3</li>\n",
       "\t<li>3</li>\n",
       "\t<li>3</li>\n",
       "\t<li>3</li>\n",
       "\t<li>3</li>\n",
       "\t<li>3</li>\n",
       "\t<li>3</li>\n",
       "\t<li>3</li>\n",
       "\t<li>3</li>\n",
       "\t<li>3</li>\n",
       "\t<li>3</li>\n",
       "\t<li>3</li>\n",
       "\t<li>3</li>\n",
       "\t<li>3</li>\n",
       "\t<li>3</li>\n",
       "\t<li>3</li>\n",
       "\t<li>3</li>\n",
       "\t<li>3</li>\n",
       "\t<li>3</li>\n",
       "\t<li>3</li>\n",
       "\t<li>3</li>\n",
       "\t<li>3</li>\n",
       "\t<li>3</li>\n",
       "\t<li>3</li>\n",
       "\t<li>3</li>\n",
       "\t<li>3</li>\n",
       "\t<li>3</li>\n",
       "\t<li>3</li>\n",
       "\t<li>3</li>\n",
       "\t<li>3</li>\n",
       "\t<li>3</li>\n",
       "\t<li>3</li>\n",
       "\t<li>3</li>\n",
       "\t<li>3</li>\n",
       "\t<li>3</li>\n",
       "\t<li>3</li>\n",
       "\t<li>3</li>\n",
       "\t<li>3</li>\n",
       "\t<li>3</li>\n",
       "\t<li>3</li>\n",
       "\t<li>3</li>\n",
       "\t<li>3</li>\n",
       "\t<li>3</li>\n",
       "\t<li>3</li>\n",
       "\t<li>3</li>\n",
       "\t<li>3</li>\n",
       "\t<li>3</li>\n",
       "\t<li>3</li>\n",
       "\t<li>3</li>\n",
       "\t<li>3</li>\n",
       "\t<li>3</li>\n",
       "\t<li>3</li>\n",
       "\t<li>3</li>\n",
       "\t<li>3</li>\n",
       "\t<li>3</li>\n",
       "\t<li>3</li>\n",
       "\t<li>3</li>\n",
       "\t<li>3</li>\n",
       "\t<li>3</li>\n",
       "\t<li>3</li>\n",
       "\t<li>3</li>\n",
       "\t<li>3</li>\n",
       "\t<li>3</li>\n",
       "\t<li>3</li>\n",
       "\t<li>3</li>\n",
       "\t<li>3</li>\n",
       "\t<li>3</li>\n",
       "\t<li>3</li>\n",
       "\t<li>3</li>\n",
       "\t<li>3</li>\n",
       "\t<li>3</li>\n",
       "\t<li>3</li>\n",
       "\t<li>3</li>\n",
       "\t<li>3</li>\n",
       "\t<li>3</li>\n",
       "\t<li>3</li>\n",
       "\t<li>3</li>\n",
       "\t<li>3</li>\n",
       "\t<li>3</li>\n",
       "\t<li>3</li>\n",
       "\t<li>3</li>\n",
       "\t<li>3</li>\n",
       "\t<li>3</li>\n",
       "\t<li>3</li>\n",
       "\t<li>3</li>\n",
       "\t<li>3</li>\n",
       "\t<li>3</li>\n",
       "\t<li>3</li>\n",
       "\t<li>3</li>\n",
       "\t<li>3</li>\n",
       "\t<li>3</li>\n",
       "\t<li>3</li>\n",
       "\t<li>3</li>\n",
       "\t<li>3</li>\n",
       "\t<li>3</li>\n",
       "\t<li>3</li>\n",
       "\t<li>3</li>\n",
       "\t<li>3</li>\n",
       "\t<li>3</li>\n",
       "\t<li>3</li>\n",
       "\t<li>3</li>\n",
       "\t<li>3</li>\n",
       "\t<li>3</li>\n",
       "\t<li>3</li>\n",
       "\t<li>3</li>\n",
       "\t<li>3</li>\n",
       "\t<li>3</li>\n",
       "\t<li>3</li>\n",
       "\t<li>3</li>\n",
       "\t<li>3</li>\n",
       "\t<li>3</li>\n",
       "\t<li>3</li>\n",
       "\t<li>3</li>\n",
       "\t<li>3</li>\n",
       "\t<li>3</li>\n",
       "\t<li>3</li>\n",
       "\t<li>3</li>\n",
       "\t<li>3</li>\n",
       "\t<li>3</li>\n",
       "\t<li>3</li>\n",
       "\t<li>3</li>\n",
       "\t<li>3</li>\n",
       "\t<li>3</li>\n",
       "\t<li>3</li>\n",
       "\t<li>3</li>\n",
       "\t<li>3</li>\n",
       "\t<li>3</li>\n",
       "\t<li>3</li>\n",
       "\t<li>3</li>\n",
       "\t<li>3</li>\n",
       "\t<li>3</li>\n",
       "\t<li>3</li>\n",
       "\t<li>2</li>\n",
       "\t<li>2</li>\n",
       "\t<li>2</li>\n",
       "\t<li>2</li>\n",
       "\t<li>1</li>\n",
       "\t<li>2</li>\n",
       "\t<li>2</li>\n",
       "\t<li>2</li>\n",
       "\t<li>2</li>\n",
       "\t<li>2</li>\n",
       "\t<li>2</li>\n",
       "\t<li>2</li>\n",
       "\t<li>2</li>\n",
       "\t<li>2</li>\n",
       "\t<li>2</li>\n",
       "\t<li>2</li>\n",
       "\t<li>2</li>\n",
       "\t<li>2</li>\n",
       "\t<li>2</li>\n",
       "\t<li>2</li>\n",
       "\t<li>2</li>\n",
       "\t<li>2</li>\n",
       "\t<li>2</li>\n",
       "\t<li>2</li>\n",
       "\t<li>2</li>\n",
       "\t<li>1</li>\n",
       "\t<li>1</li>\n",
       "\t<li>2</li>\n",
       "\t<li>2</li>\n",
       "\t<li>1</li>\n",
       "\t<li>2</li>\n",
       "\t<li>2</li>\n",
       "\t<li>2</li>\n",
       "\t<li>2</li>\n",
       "\t<li>2</li>\n",
       "\t<li>2</li>\n",
       "\t<li>1</li>\n",
       "\t<li>2</li>\n",
       "\t<li>2</li>\n",
       "\t<li>2</li>\n",
       "\t<li>2</li>\n",
       "\t<li>2</li>\n",
       "\t<li>2</li>\n",
       "\t<li>1</li>\n",
       "\t<li>2</li>\n",
       "\t<li>2</li>\n",
       "\t<li>2</li>\n",
       "\t<li>1</li>\n",
       "\t<li>2</li>\n",
       "\t<li>2</li>\n",
       "</ol>\n"
      ],
      "text/latex": [
       "\\begin{enumerate*}\n",
       "\\item 1\n",
       "\\item 1\n",
       "\\item 1\n",
       "\\item 1\n",
       "\\item 1\n",
       "\\item 1\n",
       "\\item 1\n",
       "\\item 1\n",
       "\\item 1\n",
       "\\item 1\n",
       "\\item 1\n",
       "\\item 1\n",
       "\\item 2\n",
       "\\item 1\n",
       "\\item 1\n",
       "\\item 1\n",
       "\\item 1\n",
       "\\item 2\n",
       "\\item 2\n",
       "\\item 1\n",
       "\\item 1\n",
       "\\item 1\n",
       "\\item 1\n",
       "\\item 1\n",
       "\\item 1\n",
       "\\item 1\n",
       "\\item 1\n",
       "\\item 1\n",
       "\\item 1\n",
       "\\item 1\n",
       "\\item 1\n",
       "\\item 1\n",
       "\\item 1\n",
       "\\item 1\n",
       "\\item 1\n",
       "\\item 1\n",
       "\\item 2\n",
       "\\item 2\n",
       "\\item 2\n",
       "\\item 1\n",
       "\\item 1\n",
       "\\item 1\n",
       "\\item 1\n",
       "\\item 2\n",
       "\\item 1\n",
       "\\item 1\n",
       "\\item 1\n",
       "\\item 1\n",
       "\\item 1\n",
       "\\item 1\n",
       "\\item 1\n",
       "\\item 1\n",
       "\\item 1\n",
       "\\item 1\n",
       "\\item 1\n",
       "\\item 1\n",
       "\\item 1\n",
       "\\item 1\n",
       "\\item 2\n",
       "\\item 1\n",
       "\\item 1\n",
       "\\item 1\n",
       "\\item 1\n",
       "\\item 1\n",
       "\\item 1\n",
       "\\item 1\n",
       "\\item 1\n",
       "\\item 1\n",
       "\\item 1\n",
       "\\item 1\n",
       "\\item 1\n",
       "\\item 1\n",
       "\\item 1\n",
       "\\item 2\n",
       "\\item 1\n",
       "\\item 1\n",
       "\\item 1\n",
       "\\item 1\n",
       "\\item 1\n",
       "\\item 1\n",
       "\\item 1\n",
       "\\item 1\n",
       "\\item 1\n",
       "\\item 1\n",
       "\\item 1\n",
       "\\item 1\n",
       "\\item 1\n",
       "\\item 1\n",
       "\\item 1\n",
       "\\item 1\n",
       "\\item 1\n",
       "\\item 1\n",
       "\\item 1\n",
       "\\item 1\n",
       "\\item 1\n",
       "\\item 1\n",
       "\\item 1\n",
       "\\item 1\n",
       "\\item 1\n",
       "\\item 1\n",
       "\\item 3\n",
       "\\item 3\n",
       "\\item 3\n",
       "\\item 3\n",
       "\\item 3\n",
       "\\item 3\n",
       "\\item 3\n",
       "\\item 3\n",
       "\\item 3\n",
       "\\item 3\n",
       "\\item 3\n",
       "\\item 3\n",
       "\\item 3\n",
       "\\item 3\n",
       "\\item 3\n",
       "\\item 3\n",
       "\\item 3\n",
       "\\item 3\n",
       "\\item 3\n",
       "\\item 3\n",
       "\\item 3\n",
       "\\item 3\n",
       "\\item 3\n",
       "\\item 3\n",
       "\\item 3\n",
       "\\item 3\n",
       "\\item 3\n",
       "\\item 3\n",
       "\\item 3\n",
       "\\item 3\n",
       "\\item 3\n",
       "\\item 3\n",
       "\\item 3\n",
       "\\item 3\n",
       "\\item 3\n",
       "\\item 3\n",
       "\\item 3\n",
       "\\item 3\n",
       "\\item 3\n",
       "\\item 3\n",
       "\\item 3\n",
       "\\item 3\n",
       "\\item 3\n",
       "\\item 3\n",
       "\\item 3\n",
       "\\item 3\n",
       "\\item 3\n",
       "\\item 3\n",
       "\\item 3\n",
       "\\item 3\n",
       "\\item 3\n",
       "\\item 3\n",
       "\\item 3\n",
       "\\item 3\n",
       "\\item 3\n",
       "\\item 3\n",
       "\\item 3\n",
       "\\item 3\n",
       "\\item 3\n",
       "\\item 3\n",
       "\\item 3\n",
       "\\item 3\n",
       "\\item 3\n",
       "\\item 3\n",
       "\\item 3\n",
       "\\item 3\n",
       "\\item 3\n",
       "\\item 3\n",
       "\\item 3\n",
       "\\item 3\n",
       "\\item 3\n",
       "\\item 3\n",
       "\\item 3\n",
       "\\item 3\n",
       "\\item 3\n",
       "\\item 3\n",
       "\\item 3\n",
       "\\item 3\n",
       "\\item 3\n",
       "\\item 3\n",
       "\\item 3\n",
       "\\item 3\n",
       "\\item 3\n",
       "\\item 3\n",
       "\\item 3\n",
       "\\item 3\n",
       "\\item 3\n",
       "\\item 3\n",
       "\\item 3\n",
       "\\item 3\n",
       "\\item 3\n",
       "\\item 3\n",
       "\\item 3\n",
       "\\item 3\n",
       "\\item 3\n",
       "\\item 3\n",
       "\\item 3\n",
       "\\item 3\n",
       "\\item 3\n",
       "\\item 3\n",
       "\\item 3\n",
       "\\item 3\n",
       "\\item 3\n",
       "\\item 3\n",
       "\\item 3\n",
       "\\item 3\n",
       "\\item 3\n",
       "\\item 3\n",
       "\\item 3\n",
       "\\item 3\n",
       "\\item 3\n",
       "\\item 3\n",
       "\\item 3\n",
       "\\item 3\n",
       "\\item 3\n",
       "\\item 3\n",
       "\\item 3\n",
       "\\item 3\n",
       "\\item 3\n",
       "\\item 3\n",
       "\\item 3\n",
       "\\item 3\n",
       "\\item 3\n",
       "\\item 3\n",
       "\\item 3\n",
       "\\item 3\n",
       "\\item 3\n",
       "\\item 3\n",
       "\\item 3\n",
       "\\item 3\n",
       "\\item 3\n",
       "\\item 3\n",
       "\\item 3\n",
       "\\item 3\n",
       "\\item 3\n",
       "\\item 3\n",
       "\\item 3\n",
       "\\item 3\n",
       "\\item 3\n",
       "\\item 3\n",
       "\\item 3\n",
       "\\item 3\n",
       "\\item 3\n",
       "\\item 3\n",
       "\\item 3\n",
       "\\item 3\n",
       "\\item 3\n",
       "\\item 3\n",
       "\\item 3\n",
       "\\item 3\n",
       "\\item 2\n",
       "\\item 2\n",
       "\\item 2\n",
       "\\item 2\n",
       "\\item 1\n",
       "\\item 2\n",
       "\\item 2\n",
       "\\item 2\n",
       "\\item 2\n",
       "\\item 2\n",
       "\\item 2\n",
       "\\item 2\n",
       "\\item 2\n",
       "\\item 2\n",
       "\\item 2\n",
       "\\item 2\n",
       "\\item 2\n",
       "\\item 2\n",
       "\\item 2\n",
       "\\item 2\n",
       "\\item 2\n",
       "\\item 2\n",
       "\\item 2\n",
       "\\item 2\n",
       "\\item 2\n",
       "\\item 1\n",
       "\\item 1\n",
       "\\item 2\n",
       "\\item 2\n",
       "\\item 1\n",
       "\\item 2\n",
       "\\item 2\n",
       "\\item 2\n",
       "\\item 2\n",
       "\\item 2\n",
       "\\item 2\n",
       "\\item 1\n",
       "\\item 2\n",
       "\\item 2\n",
       "\\item 2\n",
       "\\item 2\n",
       "\\item 2\n",
       "\\item 2\n",
       "\\item 1\n",
       "\\item 2\n",
       "\\item 2\n",
       "\\item 2\n",
       "\\item 1\n",
       "\\item 2\n",
       "\\item 2\n",
       "\\end{enumerate*}\n"
      ],
      "text/markdown": [
       "1. 1\n",
       "2. 1\n",
       "3. 1\n",
       "4. 1\n",
       "5. 1\n",
       "6. 1\n",
       "7. 1\n",
       "8. 1\n",
       "9. 1\n",
       "10. 1\n",
       "11. 1\n",
       "12. 1\n",
       "13. 2\n",
       "14. 1\n",
       "15. 1\n",
       "16. 1\n",
       "17. 1\n",
       "18. 2\n",
       "19. 2\n",
       "20. 1\n",
       "21. 1\n",
       "22. 1\n",
       "23. 1\n",
       "24. 1\n",
       "25. 1\n",
       "26. 1\n",
       "27. 1\n",
       "28. 1\n",
       "29. 1\n",
       "30. 1\n",
       "31. 1\n",
       "32. 1\n",
       "33. 1\n",
       "34. 1\n",
       "35. 1\n",
       "36. 1\n",
       "37. 2\n",
       "38. 2\n",
       "39. 2\n",
       "40. 1\n",
       "41. 1\n",
       "42. 1\n",
       "43. 1\n",
       "44. 2\n",
       "45. 1\n",
       "46. 1\n",
       "47. 1\n",
       "48. 1\n",
       "49. 1\n",
       "50. 1\n",
       "51. 1\n",
       "52. 1\n",
       "53. 1\n",
       "54. 1\n",
       "55. 1\n",
       "56. 1\n",
       "57. 1\n",
       "58. 1\n",
       "59. 2\n",
       "60. 1\n",
       "61. 1\n",
       "62. 1\n",
       "63. 1\n",
       "64. 1\n",
       "65. 1\n",
       "66. 1\n",
       "67. 1\n",
       "68. 1\n",
       "69. 1\n",
       "70. 1\n",
       "71. 1\n",
       "72. 1\n",
       "73. 1\n",
       "74. 2\n",
       "75. 1\n",
       "76. 1\n",
       "77. 1\n",
       "78. 1\n",
       "79. 1\n",
       "80. 1\n",
       "81. 1\n",
       "82. 1\n",
       "83. 1\n",
       "84. 1\n",
       "85. 1\n",
       "86. 1\n",
       "87. 1\n",
       "88. 1\n",
       "89. 1\n",
       "90. 1\n",
       "91. 1\n",
       "92. 1\n",
       "93. 1\n",
       "94. 1\n",
       "95. 1\n",
       "96. 1\n",
       "97. 1\n",
       "98. 1\n",
       "99. 1\n",
       "100. 1\n",
       "101. 3\n",
       "102. 3\n",
       "103. 3\n",
       "104. 3\n",
       "105. 3\n",
       "106. 3\n",
       "107. 3\n",
       "108. 3\n",
       "109. 3\n",
       "110. 3\n",
       "111. 3\n",
       "112. 3\n",
       "113. 3\n",
       "114. 3\n",
       "115. 3\n",
       "116. 3\n",
       "117. 3\n",
       "118. 3\n",
       "119. 3\n",
       "120. 3\n",
       "121. 3\n",
       "122. 3\n",
       "123. 3\n",
       "124. 3\n",
       "125. 3\n",
       "126. 3\n",
       "127. 3\n",
       "128. 3\n",
       "129. 3\n",
       "130. 3\n",
       "131. 3\n",
       "132. 3\n",
       "133. 3\n",
       "134. 3\n",
       "135. 3\n",
       "136. 3\n",
       "137. 3\n",
       "138. 3\n",
       "139. 3\n",
       "140. 3\n",
       "141. 3\n",
       "142. 3\n",
       "143. 3\n",
       "144. 3\n",
       "145. 3\n",
       "146. 3\n",
       "147. 3\n",
       "148. 3\n",
       "149. 3\n",
       "150. 3\n",
       "151. 3\n",
       "152. 3\n",
       "153. 3\n",
       "154. 3\n",
       "155. 3\n",
       "156. 3\n",
       "157. 3\n",
       "158. 3\n",
       "159. 3\n",
       "160. 3\n",
       "161. 3\n",
       "162. 3\n",
       "163. 3\n",
       "164. 3\n",
       "165. 3\n",
       "166. 3\n",
       "167. 3\n",
       "168. 3\n",
       "169. 3\n",
       "170. 3\n",
       "171. 3\n",
       "172. 3\n",
       "173. 3\n",
       "174. 3\n",
       "175. 3\n",
       "176. 3\n",
       "177. 3\n",
       "178. 3\n",
       "179. 3\n",
       "180. 3\n",
       "181. 3\n",
       "182. 3\n",
       "183. 3\n",
       "184. 3\n",
       "185. 3\n",
       "186. 3\n",
       "187. 3\n",
       "188. 3\n",
       "189. 3\n",
       "190. 3\n",
       "191. 3\n",
       "192. 3\n",
       "193. 3\n",
       "194. 3\n",
       "195. 3\n",
       "196. 3\n",
       "197. 3\n",
       "198. 3\n",
       "199. 3\n",
       "200. 3\n",
       "201. 3\n",
       "202. 3\n",
       "203. 3\n",
       "204. 3\n",
       "205. 3\n",
       "206. 3\n",
       "207. 3\n",
       "208. 3\n",
       "209. 3\n",
       "210. 3\n",
       "211. 3\n",
       "212. 3\n",
       "213. 3\n",
       "214. 3\n",
       "215. 3\n",
       "216. 3\n",
       "217. 3\n",
       "218. 3\n",
       "219. 3\n",
       "220. 3\n",
       "221. 3\n",
       "222. 3\n",
       "223. 3\n",
       "224. 3\n",
       "225. 3\n",
       "226. 3\n",
       "227. 3\n",
       "228. 3\n",
       "229. 3\n",
       "230. 3\n",
       "231. 3\n",
       "232. 3\n",
       "233. 3\n",
       "234. 3\n",
       "235. 3\n",
       "236. 3\n",
       "237. 3\n",
       "238. 3\n",
       "239. 3\n",
       "240. 3\n",
       "241. 3\n",
       "242. 3\n",
       "243. 3\n",
       "244. 3\n",
       "245. 3\n",
       "246. 3\n",
       "247. 3\n",
       "248. 3\n",
       "249. 3\n",
       "250. 3\n",
       "251. 2\n",
       "252. 2\n",
       "253. 2\n",
       "254. 2\n",
       "255. 1\n",
       "256. 2\n",
       "257. 2\n",
       "258. 2\n",
       "259. 2\n",
       "260. 2\n",
       "261. 2\n",
       "262. 2\n",
       "263. 2\n",
       "264. 2\n",
       "265. 2\n",
       "266. 2\n",
       "267. 2\n",
       "268. 2\n",
       "269. 2\n",
       "270. 2\n",
       "271. 2\n",
       "272. 2\n",
       "273. 2\n",
       "274. 2\n",
       "275. 2\n",
       "276. 1\n",
       "277. 1\n",
       "278. 2\n",
       "279. 2\n",
       "280. 1\n",
       "281. 2\n",
       "282. 2\n",
       "283. 2\n",
       "284. 2\n",
       "285. 2\n",
       "286. 2\n",
       "287. 1\n",
       "288. 2\n",
       "289. 2\n",
       "290. 2\n",
       "291. 2\n",
       "292. 2\n",
       "293. 2\n",
       "294. 1\n",
       "295. 2\n",
       "296. 2\n",
       "297. 2\n",
       "298. 1\n",
       "299. 2\n",
       "300. 2\n",
       "\n",
       "\n"
      ],
      "text/plain": [
       "  [1] 1 1 1 1 1 1 1 1 1 1 1 1 2 1 1 1 1 2 2 1 1 1 1 1 1 1 1 1 1 1 1 1 1 1 1 1 2\n",
       " [38] 2 2 1 1 1 1 2 1 1 1 1 1 1 1 1 1 1 1 1 1 1 2 1 1 1 1 1 1 1 1 1 1 1 1 1 1 2\n",
       " [75] 1 1 1 1 1 1 1 1 1 1 1 1 1 1 1 1 1 1 1 1 1 1 1 1 1 1 3 3 3 3 3 3 3 3 3 3 3\n",
       "[112] 3 3 3 3 3 3 3 3 3 3 3 3 3 3 3 3 3 3 3 3 3 3 3 3 3 3 3 3 3 3 3 3 3 3 3 3 3\n",
       "[149] 3 3 3 3 3 3 3 3 3 3 3 3 3 3 3 3 3 3 3 3 3 3 3 3 3 3 3 3 3 3 3 3 3 3 3 3 3\n",
       "[186] 3 3 3 3 3 3 3 3 3 3 3 3 3 3 3 3 3 3 3 3 3 3 3 3 3 3 3 3 3 3 3 3 3 3 3 3 3\n",
       "[223] 3 3 3 3 3 3 3 3 3 3 3 3 3 3 3 3 3 3 3 3 3 3 3 3 3 3 3 3 2 2 2 2 1 2 2 2 2\n",
       "[260] 2 2 2 2 2 2 2 2 2 2 2 2 2 2 2 2 1 1 2 2 1 2 2 2 2 2 2 1 2 2 2 2 2 2 1 2 2\n",
       "[297] 2 1 2 2"
      ]
     },
     "metadata": {},
     "output_type": "display_data"
    }
   ],
   "source": [
    "# Print the cluster membership component of the model\n",
    "km.out_x$cluster\n",
    "\n"
   ]
  },
  {
   "cell_type": "code",
   "execution_count": 7,
   "metadata": {},
   "outputs": [
    {
     "data": {
      "text/plain": [
       "K-means clustering with 3 clusters of sizes 98, 52, 150\n",
       "\n",
       "Cluster means:\n",
       "          V1          V2\n",
       "1  2.2171113  2.05110690\n",
       "2  0.6642455 -0.09132968\n",
       "3 -5.0556758  1.96991743\n",
       "\n",
       "Clustering vector:\n",
       "  [1] 1 1 1 1 1 1 1 1 1 1 1 1 2 1 1 1 1 2 2 1 1 1 1 1 1 1 1 1 1 1 1 1 1 1 1 1 2\n",
       " [38] 2 2 1 1 1 1 2 1 1 1 1 1 1 1 1 1 1 1 1 1 1 2 1 1 1 1 1 1 1 1 1 1 1 1 1 1 2\n",
       " [75] 1 1 1 1 1 1 1 1 1 1 1 1 1 1 1 1 1 1 1 1 1 1 1 1 1 1 3 3 3 3 3 3 3 3 3 3 3\n",
       "[112] 3 3 3 3 3 3 3 3 3 3 3 3 3 3 3 3 3 3 3 3 3 3 3 3 3 3 3 3 3 3 3 3 3 3 3 3 3\n",
       "[149] 3 3 3 3 3 3 3 3 3 3 3 3 3 3 3 3 3 3 3 3 3 3 3 3 3 3 3 3 3 3 3 3 3 3 3 3 3\n",
       "[186] 3 3 3 3 3 3 3 3 3 3 3 3 3 3 3 3 3 3 3 3 3 3 3 3 3 3 3 3 3 3 3 3 3 3 3 3 3\n",
       "[223] 3 3 3 3 3 3 3 3 3 3 3 3 3 3 3 3 3 3 3 3 3 3 3 3 3 3 3 3 2 2 2 2 1 2 2 2 2\n",
       "[260] 2 2 2 2 2 2 2 2 2 2 2 2 2 2 2 2 1 1 2 2 1 2 2 2 2 2 2 1 2 2 2 2 2 2 1 2 2\n",
       "[297] 2 1 2 2\n",
       "\n",
       "Within cluster sum of squares by cluster:\n",
       "[1] 148.64781  95.50625 295.16925\n",
       " (between_SS / total_SS =  87.2 %)\n",
       "\n",
       "Available components:\n",
       "\n",
       "[1] \"cluster\"      \"centers\"      \"totss\"        \"withinss\"     \"tot.withinss\"\n",
       "[6] \"betweenss\"    \"size\"         \"iter\"         \"ifault\"      "
      ]
     },
     "metadata": {},
     "output_type": "display_data"
    }
   ],
   "source": [
    "# Print the km.out object\n",
    "km.out_x"
   ]
  },
  {
   "cell_type": "markdown",
   "metadata": {},
   "source": [
    "### Visualizing and interpreting results of kmeans()\n",
    "\n",
    "One of the more intuitive ways to interpret the results of k-means models is by plotting the data as a scatter plot and using color to label the samples' cluster membership. We will use the standard `plot()` function to accomplish this.\n",
    "\n",
    "To create a scatter plot, we can pass data with two features (i.e. columns) to `plot()` with an extra argument `col = km.out$cluster`, which sets the color of each point in the scatter plot according to its cluster membership."
   ]
  },
  {
   "cell_type": "code",
   "execution_count": 8,
   "metadata": {},
   "outputs": [
    {
     "data": {
      "image/png": "[encoded data removed]",
      "text/plain": [
       "Plot with title \"k-means with 3 clusters\""
      ]
     },
     "metadata": {},
     "output_type": "display_data"
    }
   ],
   "source": [
    "# Scatter plot of x\n",
    "plot(x, main=\"k-means with 3 clusters\", col=km.out_x$cluster, xlab=\"\", ylab=\"\")"
   ]
  },
  {
   "cell_type": "markdown",
   "metadata": {},
   "source": [
    "## How k-means works and practical matters\n",
    "\n",
    "### Objectives\n",
    "- Explain how k-means algorithm is implemented visually\n",
    "- **Model selection**: determining number of clusters\n",
    "\n",
    "### Model selection\n",
    "- Recall k-means has a random component\n",
    "- Best outcome is based on total within cluster sum of squares:\n",
    "  - For each cluster\n",
    "    - For each observation in the cluster\n",
    "      - Determine squared distance from observation to cluster center\n",
    "    - Sum all of them together\n",
    "- Running algorithm multiple times helps find the global minimum total within cluster sum of squares"
   ]
  },
  {
   "cell_type": "markdown",
   "metadata": {},
   "source": [
    "### Handling random algorithms\n",
    "\n",
    "`kmeans()` randomly initializes the centers of clusters. This random initialization can result in assigning observations to different cluster labels. Also, the random initialization can result in finding different local minima for the k-means algorithm. we will demonstrate both results.\n",
    "\n",
    "At the top of each plot, the measure of model quality—total within cluster sum of squares error—will be plotted. Look for the model(s) with the lowest error to find models with the better model results.\n",
    "\n",
    "Because `kmeans()` initializes observations to random clusters, it is important to set the random number generator seed for reproducibility."
   ]
  },
  {
   "cell_type": "code",
   "execution_count": 9,
   "metadata": {},
   "outputs": [
    {
     "data": {
      "image/png": "[encoded data removed]",
      "text/plain": [
       "Plot with title \"539.323307617481\""
      ]
     },
     "metadata": {},
     "output_type": "display_data"
    }
   ],
   "source": [
    "# Set up 2 x 3 plotting grid\n",
    "par(mfrow = c(2, 3))\n",
    "\n",
    "# Set seed\n",
    "set.seed(1)\n",
    "\n",
    "for(i in 1:6) {\n",
    "  # Run kmeans() on x with three clusters and one start\n",
    "  km.out <- kmeans(x, centers=3, nstart=1)\n",
    "  \n",
    "  # Plot clusters\n",
    "  plot(x, col = km.out$cluster, \n",
    "       main = km.out$tot.withinss, \n",
    "       xlab = \"\", ylab = \"\")\n",
    "}"
   ]
  },
  {
   "cell_type": "markdown",
   "metadata": {},
   "source": [
    "Because of the random initialization of the k-means algorithm, there's quite some variation in cluster assignments among the six models."
   ]
  },
  {
   "cell_type": "markdown",
   "metadata": {},
   "source": [
    "### Selecting number of clusters\n",
    "\n",
    "The k-means algorithm assumes the number of clusters as part of the input. If you know the number of clusters in advance (e.g. due to certain business constraints) this makes setting the number of clusters easy. However, if you do not know the number of clusters and need to determine it, you will need to run the algorithm multiple times, each time with a different number of clusters. From this, we can observe how a measure of model quality changes with the number of clusters.\n",
    "\n",
    "We will run `kmeans()` multiple times to see how model quality changes as the number of clusters changes. Plots displaying this information help to determine the number of clusters and are often referred to as scree plots.\n",
    "\n",
    "The ideal plot will have an elbow where the quality measure improves more slowly as the number of clusters increases. This indicates that the quality of the model is no longer improving substantially as the model complexity (i.e. number of clusters) increases. In other words, the elbow indicates the number of clusters inherent in the data."
   ]
  },
  {
   "cell_type": "code",
   "execution_count": 10,
   "metadata": {},
   "outputs": [
    {
     "data": {
      "image/png": "[encoded data removed]",
      "text/plain": [
       "plot without title"
      ]
     },
     "metadata": {},
     "output_type": "display_data"
    }
   ],
   "source": [
    "# Initialize total within sum of squares error: wss\n",
    "wss <- 0\n",
    "\n",
    "# For 1 to 15 cluster centers\n",
    "for (i in 1:15) {\n",
    "  km.out <- kmeans(x, centers = i, nstart=20)\n",
    "  # Save total within sum of squares to wss variable\n",
    "  wss[i] <- km.out$tot.withinss\n",
    "}\n",
    "\n",
    "# Plot total within sum of squares vs. number of clusters\n",
    "plot(1:15, wss, type = \"b\", \n",
    "     xlab = \"Number of Clusters\", \n",
    "     ylab = \"Within groups sum of squares\")\n",
    "\n"
   ]
  },
  {
   "cell_type": "code",
   "execution_count": 11,
   "metadata": {},
   "outputs": [],
   "source": [
    "# Set k equal to the number of clusters corresponding to the elbow location\n",
    "k <- 2"
   ]
  },
  {
   "cell_type": "markdown",
   "metadata": {},
   "source": [
    "Looking at the scree plot, it looks like there are inherently 2 or 3 clusters in the data."
   ]
  },
  {
   "cell_type": "markdown",
   "metadata": {},
   "source": [
    "## Introduction to the Pokemon data\n"
   ]
  },
  {
   "cell_type": "code",
   "execution_count": 12,
   "metadata": {},
   "outputs": [
    {
     "name": "stderr",
     "output_type": "stream",
     "text": [
      "Parsed with column specification:\n",
      "cols(\n",
      "  Number = col_double(),\n",
      "  Name = col_character(),\n",
      "  Type1 = col_character(),\n",
      "  Type2 = col_character(),\n",
      "  Total = col_double(),\n",
      "  HitPoints = col_double(),\n",
      "  Attack = col_double(),\n",
      "  Defense = col_double(),\n",
      "  SpecialAttack = col_double(),\n",
      "  SpecialDefense = col_double(),\n",
      "  Speed = col_double(),\n",
      "  Generation = col_double(),\n",
      "  Legendary = col_logical()\n",
      ")\n"
     ]
    },
    {
     "data": {
      "text/html": [
       "<table>\n",
       "<thead><tr><th scope=col>Number</th><th scope=col>Name</th><th scope=col>Type1</th><th scope=col>Type2</th><th scope=col>Total</th><th scope=col>HitPoints</th><th scope=col>Attack</th><th scope=col>Defense</th><th scope=col>SpecialAttack</th><th scope=col>SpecialDefense</th><th scope=col>Speed</th><th scope=col>Generation</th><th scope=col>Legendary</th></tr></thead>\n",
       "<tbody>\n",
       "\t<tr><td>1                    </td><td>Bulbasaur            </td><td>Grass                </td><td>Poison               </td><td>318                  </td><td>45                   </td><td> 49                  </td><td> 49                  </td><td> 65                  </td><td> 65                  </td><td>45                   </td><td>1                    </td><td>FALSE                </td></tr>\n",
       "\t<tr><td>2                    </td><td>Ivysaur              </td><td>Grass                </td><td>Poison               </td><td>405                  </td><td>60                   </td><td> 62                  </td><td> 63                  </td><td> 80                  </td><td> 80                  </td><td>60                   </td><td>1                    </td><td>FALSE                </td></tr>\n",
       "\t<tr><td>3                    </td><td>Venusaur             </td><td>Grass                </td><td>Poison               </td><td>525                  </td><td>80                   </td><td> 82                  </td><td> 83                  </td><td>100                  </td><td>100                  </td><td>80                   </td><td>1                    </td><td>FALSE                </td></tr>\n",
       "\t<tr><td>3                    </td><td>VenusaurMega Venusaur</td><td>Grass                </td><td>Poison               </td><td>625                  </td><td>80                   </td><td>100                  </td><td>123                  </td><td>122                  </td><td>120                  </td><td>80                   </td><td>1                    </td><td>FALSE                </td></tr>\n",
       "\t<tr><td>4                    </td><td>Charmander           </td><td>Fire                 </td><td>NA                   </td><td>309                  </td><td>39                   </td><td> 52                  </td><td> 43                  </td><td> 60                  </td><td> 50                  </td><td>65                   </td><td>1                    </td><td>FALSE                </td></tr>\n",
       "\t<tr><td>5                    </td><td>Charmeleon           </td><td>Fire                 </td><td>NA                   </td><td>405                  </td><td>58                   </td><td> 64                  </td><td> 58                  </td><td> 80                  </td><td> 65                  </td><td>80                   </td><td>1                    </td><td>FALSE                </td></tr>\n",
       "</tbody>\n",
       "</table>\n"
      ],
      "text/latex": [
       "\\begin{tabular}{r|lllllllllllll}\n",
       " Number & Name & Type1 & Type2 & Total & HitPoints & Attack & Defense & SpecialAttack & SpecialDefense & Speed & Generation & Legendary\\\\\n",
       "\\hline\n",
       "\t 1                     & Bulbasaur             & Grass                 & Poison                & 318                   & 45                    &  49                   &  49                   &  65                   &  65                   & 45                    & 1                     & FALSE                \\\\\n",
       "\t 2                     & Ivysaur               & Grass                 & Poison                & 405                   & 60                    &  62                   &  63                   &  80                   &  80                   & 60                    & 1                     & FALSE                \\\\\n",
       "\t 3                     & Venusaur              & Grass                 & Poison                & 525                   & 80                    &  82                   &  83                   & 100                   & 100                   & 80                    & 1                     & FALSE                \\\\\n",
       "\t 3                     & VenusaurMega Venusaur & Grass                 & Poison                & 625                   & 80                    & 100                   & 123                   & 122                   & 120                   & 80                    & 1                     & FALSE                \\\\\n",
       "\t 4                     & Charmander            & Fire                  & NA                    & 309                   & 39                    &  52                   &  43                   &  60                   &  50                   & 65                    & 1                     & FALSE                \\\\\n",
       "\t 5                     & Charmeleon            & Fire                  & NA                    & 405                   & 58                    &  64                   &  58                   &  80                   &  65                   & 80                    & 1                     & FALSE                \\\\\n",
       "\\end{tabular}\n"
      ],
      "text/markdown": [
       "\n",
       "| Number | Name | Type1 | Type2 | Total | HitPoints | Attack | Defense | SpecialAttack | SpecialDefense | Speed | Generation | Legendary |\n",
       "|---|---|---|---|---|---|---|---|---|---|---|---|---|\n",
       "| 1                     | Bulbasaur             | Grass                 | Poison                | 318                   | 45                    |  49                   |  49                   |  65                   |  65                   | 45                    | 1                     | FALSE                 |\n",
       "| 2                     | Ivysaur               | Grass                 | Poison                | 405                   | 60                    |  62                   |  63                   |  80                   |  80                   | 60                    | 1                     | FALSE                 |\n",
       "| 3                     | Venusaur              | Grass                 | Poison                | 525                   | 80                    |  82                   |  83                   | 100                   | 100                   | 80                    | 1                     | FALSE                 |\n",
       "| 3                     | VenusaurMega Venusaur | Grass                 | Poison                | 625                   | 80                    | 100                   | 123                   | 122                   | 120                   | 80                    | 1                     | FALSE                 |\n",
       "| 4                     | Charmander            | Fire                  | NA                    | 309                   | 39                    |  52                   |  43                   |  60                   |  50                   | 65                    | 1                     | FALSE                 |\n",
       "| 5                     | Charmeleon            | Fire                  | NA                    | 405                   | 58                    |  64                   |  58                   |  80                   |  65                   | 80                    | 1                     | FALSE                 |\n",
       "\n"
      ],
      "text/plain": [
       "  Number Name                  Type1 Type2  Total HitPoints Attack Defense\n",
       "1 1      Bulbasaur             Grass Poison 318   45         49     49    \n",
       "2 2      Ivysaur               Grass Poison 405   60         62     63    \n",
       "3 3      Venusaur              Grass Poison 525   80         82     83    \n",
       "4 3      VenusaurMega Venusaur Grass Poison 625   80        100    123    \n",
       "5 4      Charmander            Fire  NA     309   39         52     43    \n",
       "6 5      Charmeleon            Fire  NA     405   58         64     58    \n",
       "  SpecialAttack SpecialDefense Speed Generation Legendary\n",
       "1  65            65            45    1          FALSE    \n",
       "2  80            80            60    1          FALSE    \n",
       "3 100           100            80    1          FALSE    \n",
       "4 122           120            80    1          FALSE    \n",
       "5  60            50            65    1          FALSE    \n",
       "6  80            65            80    1          FALSE    "
      ]
     },
     "metadata": {},
     "output_type": "display_data"
    }
   ],
   "source": [
    "pokemon <- read_csv(\"datasets//Pokemon.csv\")\n",
    "head(pokemon)"
   ]
  },
  {
   "cell_type": "markdown",
   "metadata": {},
   "source": [
    "### Data challenges\n",
    "- Selecting the variables to cluster upon\n",
    "- Scaling the data\n",
    "- Determining the number of clusters\n",
    "  - Often no clean \"elbow\" in scree plot\n",
    "  - This will be a core part. \n",
    "- Visualize the results for interpretation\n"
   ]
  },
  {
   "cell_type": "markdown",
   "metadata": {},
   "source": [
    "### Practical matters: working with real data\n",
    "\n",
    "Dealing with real data is often more challenging than dealing with synthetic data. Synthetic data helps with learning new concepts and techniques, but we will deal with data that is closer to the type of real data we might find in the professional or academic pursuits.\n",
    "\n",
    "The first challenge with the Pokemon data is that there is no pre-determined number of clusters. We will determine the appropriate number of clusters, keeping in mind that in real data the elbow in the scree plot might be less of a sharp elbow than in synthetic data. We'll use our judgement on making the determination of the number of clusters.\n",
    "\n",
    "We'll be plotting the outcomes of the clustering on two dimensions, or features, of the data.\n",
    "\n",
    "An additional note: We'll utilize the `iter.max` argument to `kmeans()`. `kmeans()` is an iterative algorithm, repeating over and over until some stopping criterion is reached. The default number of iterations for `kmeans()` is 10, which is not enough for the algorithm to converge and reach its stopping criterion, so we'll set the number of iterations to 50 to overcome this issue. "
   ]
  },
  {
   "cell_type": "code",
   "execution_count": 13,
   "metadata": {},
   "outputs": [
    {
     "data": {
      "text/html": [
       "<table>\n",
       "<thead><tr><th scope=col>HitPoints</th><th scope=col>Attack</th><th scope=col>Defense</th><th scope=col>SpecialAttack</th><th scope=col>SpecialDefense</th><th scope=col>Speed</th></tr></thead>\n",
       "<tbody>\n",
       "\t<tr><td>45 </td><td> 49</td><td> 49</td><td> 65</td><td> 65</td><td>45 </td></tr>\n",
       "\t<tr><td>60 </td><td> 62</td><td> 63</td><td> 80</td><td> 80</td><td>60 </td></tr>\n",
       "\t<tr><td>80 </td><td> 82</td><td> 83</td><td>100</td><td>100</td><td>80 </td></tr>\n",
       "\t<tr><td>80 </td><td>100</td><td>123</td><td>122</td><td>120</td><td>80 </td></tr>\n",
       "\t<tr><td>39 </td><td> 52</td><td> 43</td><td> 60</td><td> 50</td><td>65 </td></tr>\n",
       "\t<tr><td>58 </td><td> 64</td><td> 58</td><td> 80</td><td> 65</td><td>80 </td></tr>\n",
       "</tbody>\n",
       "</table>\n"
      ],
      "text/latex": [
       "\\begin{tabular}{r|llllll}\n",
       " HitPoints & Attack & Defense & SpecialAttack & SpecialDefense & Speed\\\\\n",
       "\\hline\n",
       "\t 45  &  49 &  49 &  65 &  65 & 45 \\\\\n",
       "\t 60  &  62 &  63 &  80 &  80 & 60 \\\\\n",
       "\t 80  &  82 &  83 & 100 & 100 & 80 \\\\\n",
       "\t 80  & 100 & 123 & 122 & 120 & 80 \\\\\n",
       "\t 39  &  52 &  43 &  60 &  50 & 65 \\\\\n",
       "\t 58  &  64 &  58 &  80 &  65 & 80 \\\\\n",
       "\\end{tabular}\n"
      ],
      "text/markdown": [
       "\n",
       "| HitPoints | Attack | Defense | SpecialAttack | SpecialDefense | Speed |\n",
       "|---|---|---|---|---|---|\n",
       "| 45  |  49 |  49 |  65 |  65 | 45  |\n",
       "| 60  |  62 |  63 |  80 |  80 | 60  |\n",
       "| 80  |  82 |  83 | 100 | 100 | 80  |\n",
       "| 80  | 100 | 123 | 122 | 120 | 80  |\n",
       "| 39  |  52 |  43 |  60 |  50 | 65  |\n",
       "| 58  |  64 |  58 |  80 |  65 | 80  |\n",
       "\n"
      ],
      "text/plain": [
       "  HitPoints Attack Defense SpecialAttack SpecialDefense Speed\n",
       "1 45         49     49      65            65            45   \n",
       "2 60         62     63      80            80            60   \n",
       "3 80         82     83     100           100            80   \n",
       "4 80        100    123     122           120            80   \n",
       "5 39         52     43      60            50            65   \n",
       "6 58         64     58      80            65            80   "
      ]
     },
     "metadata": {},
     "output_type": "display_data"
    }
   ],
   "source": [
    "head(pokemon <- pokemon %>%\n",
    "        select(HitPoints:Speed))"
   ]
  },
  {
   "cell_type": "code",
   "execution_count": 14,
   "metadata": {},
   "outputs": [
    {
     "data": {
      "image/png": "[encoded data removed]",
      "text/plain": [
       "plot without title"
      ]
     },
     "metadata": {},
     "output_type": "display_data"
    }
   ],
   "source": [
    "# Initialize total within sum of squares error: wss\n",
    "wss <- 0\n",
    "\n",
    "# Look over 1 to 15 possible clusters\n",
    "for (i in 1:15) {\n",
    "  # Fit the model: km.out\n",
    "  km.out <- kmeans(pokemon, centers = i, nstart = 20, iter.max = 50)\n",
    "  # Save the within cluster sum of squares\n",
    "  wss[i] <- km.out$tot.withinss\n",
    "}\n",
    "\n",
    "# Produce a scree plot\n",
    "plot(1:15, wss, type = \"b\", \n",
    "     xlab = \"Number of Clusters\", \n",
    "     ylab = \"Within groups sum of squares\")\n",
    "\n"
   ]
  },
  {
   "cell_type": "code",
   "execution_count": 15,
   "metadata": {},
   "outputs": [
    {
     "data": {
      "text/plain": [
       "K-means clustering with 2 clusters of sizes 374, 426\n",
       "\n",
       "Cluster means:\n",
       "  HitPoints   Attack  Defense SpecialAttack SpecialDefense    Speed\n",
       "1  54.87968 57.94118 55.49733      52.33155       53.44118 54.04278\n",
       "2  81.88263 97.49061 89.94836      90.80751       88.11033 80.77465\n",
       "\n",
       "Clustering vector:\n",
       "  [1] 1 1 2 2 1 1 2 2 2 1 1 2 2 1 1 1 1 1 1 2 1 1 2 2 1 1 1 2 1 2 1 2 1 2 1 1 2\n",
       " [38] 1 1 2 1 2 1 2 1 1 1 2 1 1 2 1 1 1 2 1 1 1 1 1 2 1 2 1 2 1 1 2 1 1 2 2 1 1\n",
       " [75] 2 1 1 2 1 2 1 1 2 1 2 1 2 2 1 2 1 1 2 1 2 1 2 1 2 1 1 2 2 1 1 2 1 2 1 2 1\n",
       "[112] 2 1 2 2 2 1 1 2 1 2 1 2 2 2 1 2 1 2 1 2 2 2 2 2 2 2 2 2 1 2 2 2 1 1 2 2 2\n",
       "[149] 1 1 2 1 2 2 2 2 2 2 2 1 1 2 2 2 2 2 1 1 2 1 1 2 1 1 2 1 1 1 2 1 1 1 1 2 1\n",
       "[186] 2 1 1 1 1 1 1 2 1 1 2 2 2 1 1 1 2 1 1 2 1 1 2 1 1 2 2 2 1 2 2 1 1 2 1 2 1\n",
       "[223] 1 2 2 1 2 1 2 2 2 2 2 1 1 2 1 1 1 2 1 1 2 1 2 2 1 2 2 2 1 2 2 2 1 1 2 1 1\n",
       "[260] 1 2 2 2 2 2 1 1 2 2 2 2 2 1 1 2 2 1 1 2 2 1 1 2 2 1 1 1 1 1 1 1 1 1 1 1 2\n",
       "[297] 1 1 2 1 1 1 2 1 1 2 2 1 1 1 2 1 2 2 1 2 1 1 1 2 1 2 1 1 1 1 1 2 1 2 1 2 2\n",
       "[334] 2 1 1 2 1 2 2 1 1 1 1 1 1 2 1 2 2 1 2 1 2 2 2 1 2 1 1 1 2 1 2 1 2 2 2 2 2\n",
       "[371] 2 1 2 1 2 1 2 1 2 1 2 1 2 1 2 1 2 2 1 2 2 1 2 2 1 1 2 2 1 1 2 1 2 2 2 1 1\n",
       "[408] 1 2 2 1 1 2 2 2 2 2 2 2 2 2 2 2 2 2 2 2 2 2 2 2 2 1 1 2 1 1 2 1 1 2 1 1 2\n",
       "[445] 1 1 1 1 1 1 2 1 2 1 2 1 2 1 2 2 2 2 1 2 1 1 2 1 2 1 2 2 1 2 1 2 2 2 2 1 2\n",
       "[482] 1 1 2 1 2 1 1 1 1 2 1 1 2 2 1 1 2 2 1 2 1 2 1 2 2 1 2 1 1 2 2 2 2 2 2 2 2\n",
       "[519] 2 2 2 2 2 2 2 2 2 2 2 2 2 2 2 2 2 2 2 2 2 2 2 2 2 2 2 2 2 2 2 2 2 2 2 2 1\n",
       "[556] 1 2 1 1 2 1 1 2 1 1 1 1 2 1 2 1 2 1 2 1 2 1 2 1 1 2 1 2 1 1 2 1 1 1 2 2 2\n",
       "[593] 1 1 2 1 1 2 2 2 1 1 2 1 1 2 1 2 1 2 2 1 1 2 1 2 2 2 1 2 1 2 2 1 2 1 2 1 2\n",
       "[630] 1 2 1 2 1 2 1 1 2 1 1 2 1 2 1 1 2 1 2 1 1 2 1 2 1 2 2 1 2 1 2 1 2 2 1 1 2\n",
       "[667] 1 2 1 1 2 1 1 2 1 2 2 1 2 2 1 2 2 1 2 1 2 2 1 2 1 2 2 2 1 1 2 1 2 2 2 2 2\n",
       "[704] 2 2 2 2 2 2 2 2 2 2 2 2 2 2 2 1 1 2 1 1 2 1 1 2 1 1 1 1 2 1 1 1 1 2 1 1 2\n",
       "[741] 1 2 1 2 2 1 2 2 1 2 2 2 1 2 1 2 1 2 1 2 1 2 1 2 1 2 1 2 1 2 2 2 1 2 1 2 2\n",
       "[778] 2 1 2 1 1 1 1 2 2 2 2 1 2 1 2 2 2 2 2 2 2 2 2\n",
       "\n",
       "Within cluster sum of squares by cluster:\n",
       "[1]  911966.2 2007145.9\n",
       " (between_SS / total_SS =  31.9 %)\n",
       "\n",
       "Available components:\n",
       "\n",
       "[1] \"cluster\"      \"centers\"      \"totss\"        \"withinss\"     \"tot.withinss\"\n",
       "[6] \"betweenss\"    \"size\"         \"iter\"         \"ifault\"      "
      ]
     },
     "metadata": {},
     "output_type": "display_data"
    }
   ],
   "source": [
    "# Select number of clusters\n",
    "k <- 2\n",
    "\n",
    "# Build model with k clusters: km.out\n",
    "km.out <- kmeans(pokemon, centers = 2, nstart = 20, iter.max = 50)\n",
    "\n",
    "# View the resulting model\n",
    "km.out\n",
    "\n"
   ]
  },
  {
   "cell_type": "code",
   "execution_count": 16,
   "metadata": {},
   "outputs": [
    {
     "data": {
      "image/png": "[encoded data removed]",
      "text/plain": [
       "Plot with title \"k-means clustering of Pokemon with 2 clusters\""
      ]
     },
     "metadata": {},
     "output_type": "display_data"
    }
   ],
   "source": [
    "# Plot of Defense vs. Speed by cluster membership\n",
    "plot(pokemon[, c(\"Defense\", \"Speed\")],\n",
    "     col = km.out$cluster,\n",
    "     main = paste(\"k-means clustering of Pokemon with\", k, \"clusters\"),\n",
    "     xlab = \"Defense\", ylab = \"Speed\")"
   ]
  },
  {
   "cell_type": "markdown",
   "metadata": {},
   "source": [
    "## Review of k-means clustering\n",
    "\n",
    "### Chapter review\n",
    "- Unsupervised vs. supervised learning\n",
    "- How to create k-means cluster model in R\n",
    "- How k-means algorithm works\n",
    "- Model selection\n",
    "- Application to \"real\" (and hopefully fun) dataset\n"
   ]
  },
  {
   "cell_type": "markdown",
   "metadata": {},
   "source": [
    "# Hierarchical clustering\n",
    "\n",
    "Hierarchical clustering is another popular method for clustering. We will go over how it works, how to use it, and how it compares to k-means clustering.\n",
    "\n"
   ]
  },
  {
   "cell_type": "markdown",
   "metadata": {},
   "source": [
    "## Introduction to hierarchical clustering\n",
    "\n",
    "### Hierarchical clustering\n",
    "- Number of clusters is not known ahead of time\n",
    "- Two kinds: bottom-up and top-down, we will focus on bottom-up\n",
    "\n",
    "### Hierarchical clustering in R"
   ]
  },
  {
   "cell_type": "code",
   "execution_count": 17,
   "metadata": {},
   "outputs": [
    {
     "data": {
      "text/plain": [
       "\n",
       "Call:\n",
       "hclust(d = dist_matrix)\n",
       "\n",
       "Cluster method   : complete \n",
       "Distance         : euclidean \n",
       "Number of objects: 300 \n"
      ]
     },
     "metadata": {},
     "output_type": "display_data"
    }
   ],
   "source": [
    "dist_matrix <- dist(x)\n",
    "hclust(dist_matrix)"
   ]
  },
  {
   "cell_type": "code",
   "execution_count": 18,
   "metadata": {},
   "outputs": [
    {
     "name": "stderr",
     "output_type": "stream",
     "text": [
      "Parsed with column specification:\n",
      "cols(\n",
      "  V1 = col_double(),\n",
      "  V2 = col_double()\n",
      ")\n"
     ]
    },
    {
     "data": {
      "text/html": [
       "<table>\n",
       "<thead><tr><th scope=col>V1</th><th scope=col>V2</th></tr></thead>\n",
       "<tbody>\n",
       "\t<tr><td>3.370958</td><td>2.321925</td></tr>\n",
       "\t<tr><td>1.435302</td><td>1.216161</td></tr>\n",
       "\t<tr><td>2.363128</td><td>3.575728</td></tr>\n",
       "\t<tr><td>2.632863</td><td>2.642899</td></tr>\n",
       "\t<tr><td>2.404268</td><td>2.089761</td></tr>\n",
       "\t<tr><td>1.893875</td><td>2.276551</td></tr>\n",
       "</tbody>\n",
       "</table>\n"
      ],
      "text/latex": [
       "\\begin{tabular}{ll}\n",
       " V1 & V2\\\\\n",
       "\\hline\n",
       "\t 3.370958 & 2.321925\\\\\n",
       "\t 1.435302 & 1.216161\\\\\n",
       "\t 2.363128 & 3.575728\\\\\n",
       "\t 2.632863 & 2.642899\\\\\n",
       "\t 2.404268 & 2.089761\\\\\n",
       "\t 1.893875 & 2.276551\\\\\n",
       "\\end{tabular}\n"
      ],
      "text/markdown": [
       "\n",
       "| V1 | V2 |\n",
       "|---|---|\n",
       "| 3.370958 | 2.321925 |\n",
       "| 1.435302 | 1.216161 |\n",
       "| 2.363128 | 3.575728 |\n",
       "| 2.632863 | 2.642899 |\n",
       "| 2.404268 | 2.089761 |\n",
       "| 1.893875 | 2.276551 |\n",
       "\n"
      ],
      "text/plain": [
       "     V1       V2      \n",
       "[1,] 3.370958 2.321925\n",
       "[2,] 1.435302 1.216161\n",
       "[3,] 2.363128 3.575728\n",
       "[4,] 2.632863 2.642899\n",
       "[5,] 2.404268 2.089761\n",
       "[6,] 1.893875 2.276551"
      ]
     },
     "metadata": {},
     "output_type": "display_data"
    }
   ],
   "source": [
    "head(x <- as.matrix(x_df <- read_csv(\"datasets//x2.csv\")))"
   ]
  },
  {
   "cell_type": "code",
   "execution_count": 19,
   "metadata": {},
   "outputs": [
    {
     "data": {
      "text/html": [
       "'matrix'"
      ],
      "text/latex": [
       "'matrix'"
      ],
      "text/markdown": [
       "'matrix'"
      ],
      "text/plain": [
       "[1] \"matrix\""
      ]
     },
     "metadata": {},
     "output_type": "display_data"
    }
   ],
   "source": [
    "class(x)"
   ]
  },
  {
   "cell_type": "markdown",
   "metadata": {},
   "source": [
    "### Hierarchical clustering with results\n",
    "\n",
    "We will create hierarchical clustering model using the `hclust()` function."
   ]
  },
  {
   "cell_type": "code",
   "execution_count": 20,
   "metadata": {},
   "outputs": [
    {
     "data": {
      "text/plain": [
       "            Length Class  Mode     \n",
       "merge       98     -none- numeric  \n",
       "height      49     -none- numeric  \n",
       "order       50     -none- numeric  \n",
       "labels       0     -none- NULL     \n",
       "method       1     -none- character\n",
       "call         2     -none- call     \n",
       "dist.method  1     -none- character"
      ]
     },
     "metadata": {},
     "output_type": "display_data"
    }
   ],
   "source": [
    "# Create hierarchical clustering model: hclust.out\n",
    "hclust.out <- hclust(dist(x))\n",
    "\n",
    "# Inspect the result\n",
    "summary(hclust.out)"
   ]
  },
  {
   "cell_type": "markdown",
   "metadata": {},
   "source": [
    "## Selecting number of clusters\n",
    "\n",
    "### Dendrogram\n",
    "- Tree shaped structure used to interpret hierarchical clustering models"
   ]
  },
  {
   "cell_type": "code",
   "execution_count": 21,
   "metadata": {},
   "outputs": [
    {
     "data": {
      "image/png": "[encoded data removed]",
      "text/plain": [
       "Plot with title \"Cluster Dendrogram\""
      ]
     },
     "metadata": {},
     "output_type": "display_data"
    }
   ],
   "source": [
    "plot(hclust.out)\n",
    "abline(h=6, col=\"red\")\n",
    "abline(h=3.5, col=\"red\")\n",
    "abline(h=4.5, col=\"red\")\n",
    "abline(h=6.9, col=\"red\")\n",
    "abline(h=9, col=\"red\")"
   ]
  },
  {
   "cell_type": "markdown",
   "metadata": {},
   "source": [
    "If you cut the tree at a height of 6.9, you're left with 3 branches representing 3 distinct clusters."
   ]
  },
  {
   "cell_type": "markdown",
   "metadata": {},
   "source": [
    "### Tree \"cutting\" in R\n",
    "\n",
    "`cutree()` is the R function that cuts a hierarchical model. The `h` and `k` arguments to `cutree()` allow you to cut the tree based on a certain height `h` or a certain number of clusters `k`."
   ]
  },
  {
   "cell_type": "code",
   "execution_count": 22,
   "metadata": {},
   "outputs": [
    {
     "data": {
      "text/html": [
       "<ol class=list-inline>\n",
       "\t<li>1</li>\n",
       "\t<li>1</li>\n",
       "\t<li>1</li>\n",
       "\t<li>1</li>\n",
       "\t<li>1</li>\n",
       "\t<li>1</li>\n",
       "\t<li>1</li>\n",
       "\t<li>1</li>\n",
       "\t<li>2</li>\n",
       "\t<li>1</li>\n",
       "\t<li>1</li>\n",
       "\t<li>1</li>\n",
       "\t<li>1</li>\n",
       "\t<li>1</li>\n",
       "\t<li>1</li>\n",
       "\t<li>1</li>\n",
       "\t<li>1</li>\n",
       "\t<li>1</li>\n",
       "\t<li>1</li>\n",
       "\t<li>1</li>\n",
       "\t<li>1</li>\n",
       "\t<li>1</li>\n",
       "\t<li>1</li>\n",
       "\t<li>1</li>\n",
       "\t<li>1</li>\n",
       "\t<li>3</li>\n",
       "\t<li>3</li>\n",
       "\t<li>3</li>\n",
       "\t<li>3</li>\n",
       "\t<li>3</li>\n",
       "\t<li>3</li>\n",
       "\t<li>3</li>\n",
       "\t<li>3</li>\n",
       "\t<li>3</li>\n",
       "\t<li>3</li>\n",
       "\t<li>4</li>\n",
       "\t<li>4</li>\n",
       "\t<li>4</li>\n",
       "\t<li>4</li>\n",
       "\t<li>4</li>\n",
       "\t<li>4</li>\n",
       "\t<li>4</li>\n",
       "\t<li>4</li>\n",
       "\t<li>4</li>\n",
       "\t<li>4</li>\n",
       "\t<li>2</li>\n",
       "\t<li>4</li>\n",
       "\t<li>2</li>\n",
       "\t<li>4</li>\n",
       "\t<li>4</li>\n",
       "</ol>\n"
      ],
      "text/latex": [
       "\\begin{enumerate*}\n",
       "\\item 1\n",
       "\\item 1\n",
       "\\item 1\n",
       "\\item 1\n",
       "\\item 1\n",
       "\\item 1\n",
       "\\item 1\n",
       "\\item 1\n",
       "\\item 2\n",
       "\\item 1\n",
       "\\item 1\n",
       "\\item 1\n",
       "\\item 1\n",
       "\\item 1\n",
       "\\item 1\n",
       "\\item 1\n",
       "\\item 1\n",
       "\\item 1\n",
       "\\item 1\n",
       "\\item 1\n",
       "\\item 1\n",
       "\\item 1\n",
       "\\item 1\n",
       "\\item 1\n",
       "\\item 1\n",
       "\\item 3\n",
       "\\item 3\n",
       "\\item 3\n",
       "\\item 3\n",
       "\\item 3\n",
       "\\item 3\n",
       "\\item 3\n",
       "\\item 3\n",
       "\\item 3\n",
       "\\item 3\n",
       "\\item 4\n",
       "\\item 4\n",
       "\\item 4\n",
       "\\item 4\n",
       "\\item 4\n",
       "\\item 4\n",
       "\\item 4\n",
       "\\item 4\n",
       "\\item 4\n",
       "\\item 4\n",
       "\\item 2\n",
       "\\item 4\n",
       "\\item 2\n",
       "\\item 4\n",
       "\\item 4\n",
       "\\end{enumerate*}\n"
      ],
      "text/markdown": [
       "1. 1\n",
       "2. 1\n",
       "3. 1\n",
       "4. 1\n",
       "5. 1\n",
       "6. 1\n",
       "7. 1\n",
       "8. 1\n",
       "9. 2\n",
       "10. 1\n",
       "11. 1\n",
       "12. 1\n",
       "13. 1\n",
       "14. 1\n",
       "15. 1\n",
       "16. 1\n",
       "17. 1\n",
       "18. 1\n",
       "19. 1\n",
       "20. 1\n",
       "21. 1\n",
       "22. 1\n",
       "23. 1\n",
       "24. 1\n",
       "25. 1\n",
       "26. 3\n",
       "27. 3\n",
       "28. 3\n",
       "29. 3\n",
       "30. 3\n",
       "31. 3\n",
       "32. 3\n",
       "33. 3\n",
       "34. 3\n",
       "35. 3\n",
       "36. 4\n",
       "37. 4\n",
       "38. 4\n",
       "39. 4\n",
       "40. 4\n",
       "41. 4\n",
       "42. 4\n",
       "43. 4\n",
       "44. 4\n",
       "45. 4\n",
       "46. 2\n",
       "47. 4\n",
       "48. 2\n",
       "49. 4\n",
       "50. 4\n",
       "\n",
       "\n"
      ],
      "text/plain": [
       " [1] 1 1 1 1 1 1 1 1 2 1 1 1 1 1 1 1 1 1 1 1 1 1 1 1 1 3 3 3 3 3 3 3 3 3 3 4 4 4\n",
       "[39] 4 4 4 4 4 4 4 2 4 2 4 4"
      ]
     },
     "metadata": {},
     "output_type": "display_data"
    }
   ],
   "source": [
    "cutree(hclust.out, h=6)"
   ]
  },
  {
   "cell_type": "code",
   "execution_count": 23,
   "metadata": {},
   "outputs": [
    {
     "data": {
      "text/html": [
       "<ol class=list-inline>\n",
       "\t<li>1</li>\n",
       "\t<li>1</li>\n",
       "\t<li>1</li>\n",
       "\t<li>1</li>\n",
       "\t<li>1</li>\n",
       "\t<li>1</li>\n",
       "\t<li>1</li>\n",
       "\t<li>1</li>\n",
       "\t<li>1</li>\n",
       "\t<li>1</li>\n",
       "\t<li>1</li>\n",
       "\t<li>1</li>\n",
       "\t<li>1</li>\n",
       "\t<li>1</li>\n",
       "\t<li>1</li>\n",
       "\t<li>1</li>\n",
       "\t<li>1</li>\n",
       "\t<li>1</li>\n",
       "\t<li>1</li>\n",
       "\t<li>1</li>\n",
       "\t<li>1</li>\n",
       "\t<li>1</li>\n",
       "\t<li>1</li>\n",
       "\t<li>1</li>\n",
       "\t<li>1</li>\n",
       "\t<li>2</li>\n",
       "\t<li>2</li>\n",
       "\t<li>2</li>\n",
       "\t<li>2</li>\n",
       "\t<li>2</li>\n",
       "\t<li>2</li>\n",
       "\t<li>2</li>\n",
       "\t<li>2</li>\n",
       "\t<li>2</li>\n",
       "\t<li>2</li>\n",
       "\t<li>1</li>\n",
       "\t<li>1</li>\n",
       "\t<li>1</li>\n",
       "\t<li>1</li>\n",
       "\t<li>1</li>\n",
       "\t<li>1</li>\n",
       "\t<li>1</li>\n",
       "\t<li>1</li>\n",
       "\t<li>1</li>\n",
       "\t<li>1</li>\n",
       "\t<li>1</li>\n",
       "\t<li>1</li>\n",
       "\t<li>1</li>\n",
       "\t<li>1</li>\n",
       "\t<li>1</li>\n",
       "</ol>\n"
      ],
      "text/latex": [
       "\\begin{enumerate*}\n",
       "\\item 1\n",
       "\\item 1\n",
       "\\item 1\n",
       "\\item 1\n",
       "\\item 1\n",
       "\\item 1\n",
       "\\item 1\n",
       "\\item 1\n",
       "\\item 1\n",
       "\\item 1\n",
       "\\item 1\n",
       "\\item 1\n",
       "\\item 1\n",
       "\\item 1\n",
       "\\item 1\n",
       "\\item 1\n",
       "\\item 1\n",
       "\\item 1\n",
       "\\item 1\n",
       "\\item 1\n",
       "\\item 1\n",
       "\\item 1\n",
       "\\item 1\n",
       "\\item 1\n",
       "\\item 1\n",
       "\\item 2\n",
       "\\item 2\n",
       "\\item 2\n",
       "\\item 2\n",
       "\\item 2\n",
       "\\item 2\n",
       "\\item 2\n",
       "\\item 2\n",
       "\\item 2\n",
       "\\item 2\n",
       "\\item 1\n",
       "\\item 1\n",
       "\\item 1\n",
       "\\item 1\n",
       "\\item 1\n",
       "\\item 1\n",
       "\\item 1\n",
       "\\item 1\n",
       "\\item 1\n",
       "\\item 1\n",
       "\\item 1\n",
       "\\item 1\n",
       "\\item 1\n",
       "\\item 1\n",
       "\\item 1\n",
       "\\end{enumerate*}\n"
      ],
      "text/markdown": [
       "1. 1\n",
       "2. 1\n",
       "3. 1\n",
       "4. 1\n",
       "5. 1\n",
       "6. 1\n",
       "7. 1\n",
       "8. 1\n",
       "9. 1\n",
       "10. 1\n",
       "11. 1\n",
       "12. 1\n",
       "13. 1\n",
       "14. 1\n",
       "15. 1\n",
       "16. 1\n",
       "17. 1\n",
       "18. 1\n",
       "19. 1\n",
       "20. 1\n",
       "21. 1\n",
       "22. 1\n",
       "23. 1\n",
       "24. 1\n",
       "25. 1\n",
       "26. 2\n",
       "27. 2\n",
       "28. 2\n",
       "29. 2\n",
       "30. 2\n",
       "31. 2\n",
       "32. 2\n",
       "33. 2\n",
       "34. 2\n",
       "35. 2\n",
       "36. 1\n",
       "37. 1\n",
       "38. 1\n",
       "39. 1\n",
       "40. 1\n",
       "41. 1\n",
       "42. 1\n",
       "43. 1\n",
       "44. 1\n",
       "45. 1\n",
       "46. 1\n",
       "47. 1\n",
       "48. 1\n",
       "49. 1\n",
       "50. 1\n",
       "\n",
       "\n"
      ],
      "text/plain": [
       " [1] 1 1 1 1 1 1 1 1 1 1 1 1 1 1 1 1 1 1 1 1 1 1 1 1 1 2 2 2 2 2 2 2 2 2 2 1 1 1\n",
       "[39] 1 1 1 1 1 1 1 1 1 1 1 1"
      ]
     },
     "metadata": {},
     "output_type": "display_data"
    }
   ],
   "source": [
    "cutree(hclust.out, k=2)"
   ]
  },
  {
   "cell_type": "code",
   "execution_count": 24,
   "metadata": {},
   "outputs": [
    {
     "data": {
      "text/html": [
       "<ol class=list-inline>\n",
       "\t<li>1</li>\n",
       "\t<li>1</li>\n",
       "\t<li>1</li>\n",
       "\t<li>1</li>\n",
       "\t<li>1</li>\n",
       "\t<li>1</li>\n",
       "\t<li>1</li>\n",
       "\t<li>1</li>\n",
       "\t<li>2</li>\n",
       "\t<li>1</li>\n",
       "\t<li>1</li>\n",
       "\t<li>1</li>\n",
       "\t<li>1</li>\n",
       "\t<li>1</li>\n",
       "\t<li>1</li>\n",
       "\t<li>1</li>\n",
       "\t<li>1</li>\n",
       "\t<li>1</li>\n",
       "\t<li>1</li>\n",
       "\t<li>1</li>\n",
       "\t<li>1</li>\n",
       "\t<li>1</li>\n",
       "\t<li>1</li>\n",
       "\t<li>1</li>\n",
       "\t<li>1</li>\n",
       "\t<li>3</li>\n",
       "\t<li>3</li>\n",
       "\t<li>3</li>\n",
       "\t<li>3</li>\n",
       "\t<li>3</li>\n",
       "\t<li>3</li>\n",
       "\t<li>3</li>\n",
       "\t<li>3</li>\n",
       "\t<li>3</li>\n",
       "\t<li>3</li>\n",
       "\t<li>2</li>\n",
       "\t<li>2</li>\n",
       "\t<li>2</li>\n",
       "\t<li>2</li>\n",
       "\t<li>2</li>\n",
       "\t<li>2</li>\n",
       "\t<li>2</li>\n",
       "\t<li>2</li>\n",
       "\t<li>2</li>\n",
       "\t<li>2</li>\n",
       "\t<li>2</li>\n",
       "\t<li>2</li>\n",
       "\t<li>2</li>\n",
       "\t<li>2</li>\n",
       "\t<li>2</li>\n",
       "</ol>\n"
      ],
      "text/latex": [
       "\\begin{enumerate*}\n",
       "\\item 1\n",
       "\\item 1\n",
       "\\item 1\n",
       "\\item 1\n",
       "\\item 1\n",
       "\\item 1\n",
       "\\item 1\n",
       "\\item 1\n",
       "\\item 2\n",
       "\\item 1\n",
       "\\item 1\n",
       "\\item 1\n",
       "\\item 1\n",
       "\\item 1\n",
       "\\item 1\n",
       "\\item 1\n",
       "\\item 1\n",
       "\\item 1\n",
       "\\item 1\n",
       "\\item 1\n",
       "\\item 1\n",
       "\\item 1\n",
       "\\item 1\n",
       "\\item 1\n",
       "\\item 1\n",
       "\\item 3\n",
       "\\item 3\n",
       "\\item 3\n",
       "\\item 3\n",
       "\\item 3\n",
       "\\item 3\n",
       "\\item 3\n",
       "\\item 3\n",
       "\\item 3\n",
       "\\item 3\n",
       "\\item 2\n",
       "\\item 2\n",
       "\\item 2\n",
       "\\item 2\n",
       "\\item 2\n",
       "\\item 2\n",
       "\\item 2\n",
       "\\item 2\n",
       "\\item 2\n",
       "\\item 2\n",
       "\\item 2\n",
       "\\item 2\n",
       "\\item 2\n",
       "\\item 2\n",
       "\\item 2\n",
       "\\end{enumerate*}\n"
      ],
      "text/markdown": [
       "1. 1\n",
       "2. 1\n",
       "3. 1\n",
       "4. 1\n",
       "5. 1\n",
       "6. 1\n",
       "7. 1\n",
       "8. 1\n",
       "9. 2\n",
       "10. 1\n",
       "11. 1\n",
       "12. 1\n",
       "13. 1\n",
       "14. 1\n",
       "15. 1\n",
       "16. 1\n",
       "17. 1\n",
       "18. 1\n",
       "19. 1\n",
       "20. 1\n",
       "21. 1\n",
       "22. 1\n",
       "23. 1\n",
       "24. 1\n",
       "25. 1\n",
       "26. 3\n",
       "27. 3\n",
       "28. 3\n",
       "29. 3\n",
       "30. 3\n",
       "31. 3\n",
       "32. 3\n",
       "33. 3\n",
       "34. 3\n",
       "35. 3\n",
       "36. 2\n",
       "37. 2\n",
       "38. 2\n",
       "39. 2\n",
       "40. 2\n",
       "41. 2\n",
       "42. 2\n",
       "43. 2\n",
       "44. 2\n",
       "45. 2\n",
       "46. 2\n",
       "47. 2\n",
       "48. 2\n",
       "49. 2\n",
       "50. 2\n",
       "\n",
       "\n"
      ],
      "text/plain": [
       " [1] 1 1 1 1 1 1 1 1 2 1 1 1 1 1 1 1 1 1 1 1 1 1 1 1 1 3 3 3 3 3 3 3 3 3 3 2 2 2\n",
       "[39] 2 2 2 2 2 2 2 2 2 2 2 2"
      ]
     },
     "metadata": {},
     "output_type": "display_data"
    }
   ],
   "source": [
    "# Cut by height\n",
    "cutree(hclust.out, h=7)\n",
    "\n"
   ]
  },
  {
   "cell_type": "code",
   "execution_count": 25,
   "metadata": {},
   "outputs": [
    {
     "data": {
      "text/html": [
       "<ol class=list-inline>\n",
       "\t<li>1</li>\n",
       "\t<li>1</li>\n",
       "\t<li>1</li>\n",
       "\t<li>1</li>\n",
       "\t<li>1</li>\n",
       "\t<li>1</li>\n",
       "\t<li>1</li>\n",
       "\t<li>1</li>\n",
       "\t<li>2</li>\n",
       "\t<li>1</li>\n",
       "\t<li>1</li>\n",
       "\t<li>1</li>\n",
       "\t<li>1</li>\n",
       "\t<li>1</li>\n",
       "\t<li>1</li>\n",
       "\t<li>1</li>\n",
       "\t<li>1</li>\n",
       "\t<li>1</li>\n",
       "\t<li>1</li>\n",
       "\t<li>1</li>\n",
       "\t<li>1</li>\n",
       "\t<li>1</li>\n",
       "\t<li>1</li>\n",
       "\t<li>1</li>\n",
       "\t<li>1</li>\n",
       "\t<li>3</li>\n",
       "\t<li>3</li>\n",
       "\t<li>3</li>\n",
       "\t<li>3</li>\n",
       "\t<li>3</li>\n",
       "\t<li>3</li>\n",
       "\t<li>3</li>\n",
       "\t<li>3</li>\n",
       "\t<li>3</li>\n",
       "\t<li>3</li>\n",
       "\t<li>2</li>\n",
       "\t<li>2</li>\n",
       "\t<li>2</li>\n",
       "\t<li>2</li>\n",
       "\t<li>2</li>\n",
       "\t<li>2</li>\n",
       "\t<li>2</li>\n",
       "\t<li>2</li>\n",
       "\t<li>2</li>\n",
       "\t<li>2</li>\n",
       "\t<li>2</li>\n",
       "\t<li>2</li>\n",
       "\t<li>2</li>\n",
       "\t<li>2</li>\n",
       "\t<li>2</li>\n",
       "</ol>\n"
      ],
      "text/latex": [
       "\\begin{enumerate*}\n",
       "\\item 1\n",
       "\\item 1\n",
       "\\item 1\n",
       "\\item 1\n",
       "\\item 1\n",
       "\\item 1\n",
       "\\item 1\n",
       "\\item 1\n",
       "\\item 2\n",
       "\\item 1\n",
       "\\item 1\n",
       "\\item 1\n",
       "\\item 1\n",
       "\\item 1\n",
       "\\item 1\n",
       "\\item 1\n",
       "\\item 1\n",
       "\\item 1\n",
       "\\item 1\n",
       "\\item 1\n",
       "\\item 1\n",
       "\\item 1\n",
       "\\item 1\n",
       "\\item 1\n",
       "\\item 1\n",
       "\\item 3\n",
       "\\item 3\n",
       "\\item 3\n",
       "\\item 3\n",
       "\\item 3\n",
       "\\item 3\n",
       "\\item 3\n",
       "\\item 3\n",
       "\\item 3\n",
       "\\item 3\n",
       "\\item 2\n",
       "\\item 2\n",
       "\\item 2\n",
       "\\item 2\n",
       "\\item 2\n",
       "\\item 2\n",
       "\\item 2\n",
       "\\item 2\n",
       "\\item 2\n",
       "\\item 2\n",
       "\\item 2\n",
       "\\item 2\n",
       "\\item 2\n",
       "\\item 2\n",
       "\\item 2\n",
       "\\end{enumerate*}\n"
      ],
      "text/markdown": [
       "1. 1\n",
       "2. 1\n",
       "3. 1\n",
       "4. 1\n",
       "5. 1\n",
       "6. 1\n",
       "7. 1\n",
       "8. 1\n",
       "9. 2\n",
       "10. 1\n",
       "11. 1\n",
       "12. 1\n",
       "13. 1\n",
       "14. 1\n",
       "15. 1\n",
       "16. 1\n",
       "17. 1\n",
       "18. 1\n",
       "19. 1\n",
       "20. 1\n",
       "21. 1\n",
       "22. 1\n",
       "23. 1\n",
       "24. 1\n",
       "25. 1\n",
       "26. 3\n",
       "27. 3\n",
       "28. 3\n",
       "29. 3\n",
       "30. 3\n",
       "31. 3\n",
       "32. 3\n",
       "33. 3\n",
       "34. 3\n",
       "35. 3\n",
       "36. 2\n",
       "37. 2\n",
       "38. 2\n",
       "39. 2\n",
       "40. 2\n",
       "41. 2\n",
       "42. 2\n",
       "43. 2\n",
       "44. 2\n",
       "45. 2\n",
       "46. 2\n",
       "47. 2\n",
       "48. 2\n",
       "49. 2\n",
       "50. 2\n",
       "\n",
       "\n"
      ],
      "text/plain": [
       " [1] 1 1 1 1 1 1 1 1 2 1 1 1 1 1 1 1 1 1 1 1 1 1 1 1 1 3 3 3 3 3 3 3 3 3 3 2 2 2\n",
       "[39] 2 2 2 2 2 2 2 2 2 2 2 2"
      ]
     },
     "metadata": {},
     "output_type": "display_data"
    }
   ],
   "source": [
    "# Cut by number of clusters\n",
    "cutree(hclust.out, k=3)"
   ]
  },
  {
   "cell_type": "markdown",
   "metadata": {},
   "source": [
    "The output of each `cutree()` call represents the cluster assignments for each observation in the original dataset"
   ]
  },
  {
   "cell_type": "markdown",
   "metadata": {},
   "source": [
    "## Clustering linkage and practical matters\n",
    "\n",
    "### Linking clusters in hierarchical clustering\n",
    "- How is distance between clusters determined? Rules?\n",
    "- Four methods to determine which cluster should be linked\n",
    "  - **Complete**: pairwise similarity between all observations in cluster 1 and cluster 2, and uses ***largest of similarities***\n",
    "  - **Single**: same as above but uses ***smallest of similarities***\n",
    "  - **Average**: same as above but uses ***average of similarities***\n",
    "  - **Centroid**: finds centroid of cluster 1 and centroid of cluster 2, and uses ***similarity between two centroids***\n"
   ]
  },
  {
   "cell_type": "markdown",
   "metadata": {},
   "source": [
    "### Linkage in R"
   ]
  },
  {
   "cell_type": "code",
   "execution_count": 35,
   "metadata": {},
   "outputs": [
    {
     "data": {
      "image/png": "[encoded data removed]",
      "text/plain": [
       "Plot with title \"Complete\""
      ]
     },
     "metadata": {},
     "output_type": "display_data"
    }
   ],
   "source": [
    "hclust.complete <- hclust(dist(x), method = \"complete\")\n",
    "hclust.average <- hclust(dist(x), method = \"average\")\n",
    "hclust.single <- hclust(dist(x), method = \"single\")\n",
    "\n",
    "plot(hclust.complete, main=\"Complete\")"
   ]
  },
  {
   "cell_type": "code",
   "execution_count": 34,
   "metadata": {},
   "outputs": [
    {
     "data": {
      "image/png": "[encoded data removed]",
      "text/plain": [
       "Plot with title \"Average\""
      ]
     },
     "metadata": {},
     "output_type": "display_data"
    }
   ],
   "source": [
    "plot(hclust.average, main=\"Average\")"
   ]
  },
  {
   "cell_type": "code",
   "execution_count": 33,
   "metadata": {},
   "outputs": [
    {
     "data": {
      "image/png": "[encoded data removed]",
      "text/plain": [
       "Plot with title \"Single\""
      ]
     },
     "metadata": {},
     "output_type": "display_data"
    }
   ],
   "source": [
    "plot(hclust.single, main=\"Single\")"
   ]
  },
  {
   "cell_type": "markdown",
   "metadata": {},
   "source": [
    "Whether you want balanced or unbalanced trees for hierarchical clustering model depends on the context of the problem you're trying to solve. Balanced trees are essential if you want an even number of observations assigned to each cluster. On the other hand, if you want to detect outliers, for example, an unbalanced tree is more desirable because pruning an unbalanced tree can result in most observations assigned to one cluster and only a few observations assigned to other clusters."
   ]
  },
  {
   "cell_type": "markdown",
   "metadata": {},
   "source": [
    "### Practical matters\n",
    "- Data on different scales can cause undesirable results in clustering methods\n",
    "- Solution is to scale data so that features have same mean and standard deviation\n",
    "  - Subtract mean of a feature from all observations\n",
    "  - Divide each feature by the standard deviation of the feature\n",
    "  - Normalized features have a mean of zero and a standard deviation of one\n"
   ]
  },
  {
   "cell_type": "code",
   "execution_count": 29,
   "metadata": {},
   "outputs": [
    {
     "data": {
      "text/html": [
       "<dl class=dl-horizontal>\n",
       "\t<dt>V1</dt>\n",
       "\t\t<dd>-0.0356717818382165</dd>\n",
       "\t<dt>V2</dt>\n",
       "\t\t<dd>0.900701413064241</dd>\n",
       "</dl>\n"
      ],
      "text/latex": [
       "\\begin{description*}\n",
       "\\item[V1] -0.0356717818382165\n",
       "\\item[V2] 0.900701413064241\n",
       "\\end{description*}\n"
      ],
      "text/markdown": [
       "V1\n",
       ":   -0.0356717818382165V2\n",
       ":   0.900701413064241\n",
       "\n"
      ],
      "text/plain": [
       "         V1          V2 \n",
       "-0.03567178  0.90070141 "
      ]
     },
     "metadata": {},
     "output_type": "display_data"
    }
   ],
   "source": [
    "colMeans(x)"
   ]
  },
  {
   "cell_type": "code",
   "execution_count": 30,
   "metadata": {},
   "outputs": [
    {
     "data": {
      "text/html": [
       "<dl class=dl-horizontal>\n",
       "\t<dt>V1</dt>\n",
       "\t\t<dd>2.99358635554907</dd>\n",
       "\t<dt>V2</dt>\n",
       "\t\t<dd>2.0861352344035</dd>\n",
       "</dl>\n"
      ],
      "text/latex": [
       "\\begin{description*}\n",
       "\\item[V1] 2.99358635554907\n",
       "\\item[V2] 2.0861352344035\n",
       "\\end{description*}\n"
      ],
      "text/markdown": [
       "V1\n",
       ":   2.99358635554907V2\n",
       ":   2.0861352344035\n",
       "\n"
      ],
      "text/plain": [
       "      V1       V2 \n",
       "2.993586 2.086135 "
      ]
     },
     "metadata": {},
     "output_type": "display_data"
    }
   ],
   "source": [
    "apply(x, 2, sd)"
   ]
  },
  {
   "cell_type": "code",
   "execution_count": 31,
   "metadata": {},
   "outputs": [
    {
     "data": {
      "text/html": [
       "<dl class=dl-horizontal>\n",
       "\t<dt>V1</dt>\n",
       "\t\t<dd>-2.28983498828939e-18</dd>\n",
       "\t<dt>V2</dt>\n",
       "\t\t<dd>-8.67361737988404e-18</dd>\n",
       "</dl>\n"
      ],
      "text/latex": [
       "\\begin{description*}\n",
       "\\item[V1] -2.28983498828939e-18\n",
       "\\item[V2] -8.67361737988404e-18\n",
       "\\end{description*}\n"
      ],
      "text/markdown": [
       "V1\n",
       ":   -2.28983498828939e-18V2\n",
       ":   -8.67361737988404e-18\n",
       "\n"
      ],
      "text/plain": [
       "           V1            V2 \n",
       "-2.289835e-18 -8.673617e-18 "
      ]
     },
     "metadata": {},
     "output_type": "display_data"
    }
   ],
   "source": [
    "scaled_x <- scale(x)\n",
    "colMeans(scaled_x)"
   ]
  },
  {
   "cell_type": "code",
   "execution_count": 32,
   "metadata": {},
   "outputs": [
    {
     "data": {
      "text/html": [
       "<dl class=dl-horizontal>\n",
       "\t<dt>V1</dt>\n",
       "\t\t<dd>1</dd>\n",
       "\t<dt>V2</dt>\n",
       "\t\t<dd>1</dd>\n",
       "</dl>\n"
      ],
      "text/latex": [
       "\\begin{description*}\n",
       "\\item[V1] 1\n",
       "\\item[V2] 1\n",
       "\\end{description*}\n"
      ],
      "text/markdown": [
       "V1\n",
       ":   1V2\n",
       ":   1\n",
       "\n"
      ],
      "text/plain": [
       "V1 V2 \n",
       " 1  1 "
      ]
     },
     "metadata": {},
     "output_type": "display_data"
    }
   ],
   "source": [
    "apply(scaled_x, 2, sd)"
   ]
  },
  {
   "cell_type": "markdown",
   "metadata": {},
   "source": [
    "### Linkage methods\n",
    "\n",
    "We will produce hierarchical clustering models using different linkages and plot the dendrogram for each, observing the overall structure of the trees."
   ]
  },
  {
   "cell_type": "markdown",
   "metadata": {},
   "source": [
    "### Practical matters: scaling\n",
    "\n",
    "Clustering real data may require scaling the features if they have different distributions. We will go back to working with \"real\" data, the `pokemon` dataset. We will observe the distribution (mean and standard deviation) of each feature, scale the data accordingly, then produce a hierarchical clustering model using the complete linkage method.\n",
    "\n"
   ]
  },
  {
   "cell_type": "code",
   "execution_count": 36,
   "metadata": {},
   "outputs": [
    {
     "data": {
      "text/html": [
       "<dl class=dl-horizontal>\n",
       "\t<dt>HitPoints</dt>\n",
       "\t\t<dd>69.25875</dd>\n",
       "\t<dt>Attack</dt>\n",
       "\t\t<dd>79.00125</dd>\n",
       "\t<dt>Defense</dt>\n",
       "\t\t<dd>73.8425</dd>\n",
       "\t<dt>SpecialAttack</dt>\n",
       "\t\t<dd>72.82</dd>\n",
       "\t<dt>SpecialDefense</dt>\n",
       "\t\t<dd>71.9025</dd>\n",
       "\t<dt>Speed</dt>\n",
       "\t\t<dd>68.2775</dd>\n",
       "</dl>\n"
      ],
      "text/latex": [
       "\\begin{description*}\n",
       "\\item[HitPoints] 69.25875\n",
       "\\item[Attack] 79.00125\n",
       "\\item[Defense] 73.8425\n",
       "\\item[SpecialAttack] 72.82\n",
       "\\item[SpecialDefense] 71.9025\n",
       "\\item[Speed] 68.2775\n",
       "\\end{description*}\n"
      ],
      "text/markdown": [
       "HitPoints\n",
       ":   69.25875Attack\n",
       ":   79.00125Defense\n",
       ":   73.8425SpecialAttack\n",
       ":   72.82SpecialDefense\n",
       ":   71.9025Speed\n",
       ":   68.2775\n",
       "\n"
      ],
      "text/plain": [
       "     HitPoints         Attack        Defense  SpecialAttack SpecialDefense \n",
       "      69.25875       79.00125       73.84250       72.82000       71.90250 \n",
       "         Speed \n",
       "      68.27750 "
      ]
     },
     "metadata": {},
     "output_type": "display_data"
    }
   ],
   "source": [
    "# View column means\n",
    "colMeans(pokemon)\n",
    "\n"
   ]
  },
  {
   "cell_type": "code",
   "execution_count": 37,
   "metadata": {},
   "outputs": [
    {
     "data": {
      "text/html": [
       "<dl class=dl-horizontal>\n",
       "\t<dt>HitPoints</dt>\n",
       "\t\t<dd>25.5346690323321</dd>\n",
       "\t<dt>Attack</dt>\n",
       "\t\t<dd>32.4573658694985</dd>\n",
       "\t<dt>Defense</dt>\n",
       "\t\t<dd>31.1835005593329</dd>\n",
       "\t<dt>SpecialAttack</dt>\n",
       "\t\t<dd>32.7222941688016</dd>\n",
       "\t<dt>SpecialDefense</dt>\n",
       "\t\t<dd>27.8289157971175</dd>\n",
       "\t<dt>Speed</dt>\n",
       "\t\t<dd>29.0604737171615</dd>\n",
       "</dl>\n"
      ],
      "text/latex": [
       "\\begin{description*}\n",
       "\\item[HitPoints] 25.5346690323321\n",
       "\\item[Attack] 32.4573658694985\n",
       "\\item[Defense] 31.1835005593329\n",
       "\\item[SpecialAttack] 32.7222941688016\n",
       "\\item[SpecialDefense] 27.8289157971175\n",
       "\\item[Speed] 29.0604737171615\n",
       "\\end{description*}\n"
      ],
      "text/markdown": [
       "HitPoints\n",
       ":   25.5346690323321Attack\n",
       ":   32.4573658694985Defense\n",
       ":   31.1835005593329SpecialAttack\n",
       ":   32.7222941688016SpecialDefense\n",
       ":   27.8289157971175Speed\n",
       ":   29.0604737171615\n",
       "\n"
      ],
      "text/plain": [
       "     HitPoints         Attack        Defense  SpecialAttack SpecialDefense \n",
       "      25.53467       32.45737       31.18350       32.72229       27.82892 \n",
       "         Speed \n",
       "      29.06047 "
      ]
     },
     "metadata": {},
     "output_type": "display_data"
    }
   ],
   "source": [
    "# View column standard deviations\n",
    "apply(pokemon, 2, sd)\n",
    "\n"
   ]
  },
  {
   "cell_type": "code",
   "execution_count": 38,
   "metadata": {},
   "outputs": [],
   "source": [
    "# Scale the data\n",
    "pokemon.scaled = scale(pokemon)\n",
    "\n",
    "# Create hierarchical clustering model: hclust.pokemon\n",
    "hclust.pokemon <- hclust(dist(pokemon.scaled), method=\"complete\")"
   ]
  },
  {
   "cell_type": "markdown",
   "metadata": {},
   "source": [
    "### Comparing kmeans() and hclust()\n",
    "\n",
    "Comparing k-means and hierarchical clustering, we'll see the two methods produce different cluster memberships. This is because the two algorithms make different assumptions about how the data is generated. In a more advanced course, we could choose to use one model over another based on the quality of the models' assumptions, but for now, it's enough to observe that they are different.\n",
    "\n",
    "We will have compare results from the two models on the pokemon dataset to see how they differ."
   ]
  },
  {
   "cell_type": "code",
   "execution_count": 40,
   "metadata": {},
   "outputs": [
    {
     "data": {
      "text/plain": [
       "   cut.pokemon\n",
       "      1   2   3\n",
       "  1 369   5   0\n",
       "  2 419   6   1"
      ]
     },
     "metadata": {},
     "output_type": "display_data"
    }
   ],
   "source": [
    "# Apply cutree() to hclust.pokemon: cut.pokemon\n",
    "cut.pokemon<- cutree(hclust.pokemon, k=3)\n",
    "\n",
    "# Compare methods\n",
    "table(km.out$cluster, cut.pokemon)"
   ]
  },
  {
   "cell_type": "markdown",
   "metadata": {},
   "source": [
    "# Dimensionality reduction with PCA\n",
    "\n",
    "Principal component analysis, or PCA, is a common approach to dimensionality reduction. We'll explore exactly what PCA does, visualize the results of PCA with biplots and scree plots, and deal with practical issues such as centering and scaling the data before performing PCA."
   ]
  },
  {
   "cell_type": "markdown",
   "metadata": {},
   "source": [
    "## Introduction to PCA\n",
    "\n",
    "### Two methods of clustering\n",
    "- Two methods of clustering - finding groups of homogeneous items\n",
    "- Next up, dimensionality reduction\n",
    "  - Find structure in features\n",
    "  - Aid in visualization\n"
   ]
  },
  {
   "cell_type": "markdown",
   "metadata": {},
   "source": [
    "### Dimensionality reduction\n",
    "- A popular method is principal component analysis (PCA)\n",
    "- Three goals when finding lower dimensional representation of features:\n",
    "  - Find linear combination of variables to create principal components\n",
    "  - Maintain most variance in the data\n",
    "  - Principal components are uncorrelated (i.e. orthogonal to each other)\n"
   ]
  },
  {
   "cell_type": "code",
   "execution_count": 41,
   "metadata": {},
   "outputs": [
    {
     "data": {
      "text/html": [
       "<table>\n",
       "<thead><tr><th scope=col>Sepal.Length</th><th scope=col>Sepal.Width</th><th scope=col>Petal.Length</th><th scope=col>Petal.Width</th><th scope=col>Species</th></tr></thead>\n",
       "<tbody>\n",
       "\t<tr><td>5.1   </td><td>3.5   </td><td>1.4   </td><td>0.2   </td><td>setosa</td></tr>\n",
       "\t<tr><td>4.9   </td><td>3.0   </td><td>1.4   </td><td>0.2   </td><td>setosa</td></tr>\n",
       "\t<tr><td>4.7   </td><td>3.2   </td><td>1.3   </td><td>0.2   </td><td>setosa</td></tr>\n",
       "\t<tr><td>4.6   </td><td>3.1   </td><td>1.5   </td><td>0.2   </td><td>setosa</td></tr>\n",
       "\t<tr><td>5.0   </td><td>3.6   </td><td>1.4   </td><td>0.2   </td><td>setosa</td></tr>\n",
       "\t<tr><td>5.4   </td><td>3.9   </td><td>1.7   </td><td>0.4   </td><td>setosa</td></tr>\n",
       "</tbody>\n",
       "</table>\n"
      ],
      "text/latex": [
       "\\begin{tabular}{r|lllll}\n",
       " Sepal.Length & Sepal.Width & Petal.Length & Petal.Width & Species\\\\\n",
       "\\hline\n",
       "\t 5.1    & 3.5    & 1.4    & 0.2    & setosa\\\\\n",
       "\t 4.9    & 3.0    & 1.4    & 0.2    & setosa\\\\\n",
       "\t 4.7    & 3.2    & 1.3    & 0.2    & setosa\\\\\n",
       "\t 4.6    & 3.1    & 1.5    & 0.2    & setosa\\\\\n",
       "\t 5.0    & 3.6    & 1.4    & 0.2    & setosa\\\\\n",
       "\t 5.4    & 3.9    & 1.7    & 0.4    & setosa\\\\\n",
       "\\end{tabular}\n"
      ],
      "text/markdown": [
       "\n",
       "| Sepal.Length | Sepal.Width | Petal.Length | Petal.Width | Species |\n",
       "|---|---|---|---|---|\n",
       "| 5.1    | 3.5    | 1.4    | 0.2    | setosa |\n",
       "| 4.9    | 3.0    | 1.4    | 0.2    | setosa |\n",
       "| 4.7    | 3.2    | 1.3    | 0.2    | setosa |\n",
       "| 4.6    | 3.1    | 1.5    | 0.2    | setosa |\n",
       "| 5.0    | 3.6    | 1.4    | 0.2    | setosa |\n",
       "| 5.4    | 3.9    | 1.7    | 0.4    | setosa |\n",
       "\n"
      ],
      "text/plain": [
       "  Sepal.Length Sepal.Width Petal.Length Petal.Width Species\n",
       "1 5.1          3.5         1.4          0.2         setosa \n",
       "2 4.9          3.0         1.4          0.2         setosa \n",
       "3 4.7          3.2         1.3          0.2         setosa \n",
       "4 4.6          3.1         1.5          0.2         setosa \n",
       "5 5.0          3.6         1.4          0.2         setosa \n",
       "6 5.4          3.9         1.7          0.4         setosa "
      ]
     },
     "metadata": {},
     "output_type": "display_data"
    }
   ],
   "source": [
    "head(iris)"
   ]
  },
  {
   "cell_type": "markdown",
   "metadata": {},
   "source": [
    "### PCA in R\n"
   ]
  },
  {
   "cell_type": "code",
   "execution_count": 43,
   "metadata": {},
   "outputs": [
    {
     "data": {
      "text/plain": [
       "Importance of components:\n",
       "                          PC1     PC2    PC3     PC4\n",
       "Standard deviation     2.0563 0.49262 0.2797 0.15439\n",
       "Proportion of Variance 0.9246 0.05307 0.0171 0.00521\n",
       "Cumulative Proportion  0.9246 0.97769 0.9948 1.00000"
      ]
     },
     "metadata": {},
     "output_type": "display_data"
    }
   ],
   "source": [
    "summary(\n",
    "    pr.iris <- prcomp(x=iris[-5], scale=F, center=T)\n",
    ")"
   ]
  },
  {
   "cell_type": "markdown",
   "metadata": {},
   "source": [
    "### PCA using prcomp()\n",
    "We will create  PCA model and observe the diagnostic results.\n",
    "\n",
    "We have loaded the Pokemon data, which has four dimensions, and placed it in a variable called `pokemon`. We'll create a PCA model of the data, then to inspect the resulting model using the `summary()` function."
   ]
  },
  {
   "cell_type": "code",
   "execution_count": 44,
   "metadata": {},
   "outputs": [
    {
     "data": {
      "text/plain": [
       "Importance of components:\n",
       "                          PC1    PC2    PC3    PC4     PC5     PC6\n",
       "Standard deviation     1.6466 1.0457 0.8825 0.8489 0.65463 0.51681\n",
       "Proportion of Variance 0.4519 0.1822 0.1298 0.1201 0.07142 0.04451\n",
       "Cumulative Proportion  0.4519 0.6342 0.7640 0.8841 0.95549 1.00000"
      ]
     },
     "metadata": {},
     "output_type": "display_data"
    }
   ],
   "source": [
    "# Perform scaled PCA: pr.out\n",
    "pr.out <- prcomp(pokemon, scale=T)\n",
    "\n",
    "# Inspect model output\n",
    "summary(pr.out)"
   ]
  },
  {
   "cell_type": "markdown",
   "metadata": {},
   "source": [
    "The first 3 principal components describe around 77% of the variance."
   ]
  },
  {
   "cell_type": "markdown",
   "metadata": {},
   "source": [
    "### Additional results of PCA\n",
    "PCA models in R produce additional diagnostic and output components:\n",
    "\n",
    "- `center`: the column means used to center to the data, or `FALSE` if the data weren't centered\n",
    "- `scale`: the column standard deviations used to scale the data, or `FALSE` if the data weren't scaled\n",
    "- `rotation`: the directions of the principal component vectors in terms of the original features/variables. This information allows you to define new data in terms of the original principal components\n",
    "- `x`: the value of each observation in the original dataset projected to the principal components\n",
    "You can access these the same as other model components. For example, use `pr.out$rotation` to access the rotation component"
   ]
  },
  {
   "cell_type": "code",
   "execution_count": 46,
   "metadata": {},
   "outputs": [
    {
     "data": {
      "text/html": [
       "<table>\n",
       "<thead><tr><th scope=col>PC1</th><th scope=col>PC2</th><th scope=col>PC3</th><th scope=col>PC4</th><th scope=col>PC5</th><th scope=col>PC6</th></tr></thead>\n",
       "<tbody>\n",
       "\t<tr><td>-1.5554017 </td><td>-0.02146869</td><td>0.6660872  </td><td> 0.18406113</td><td>0.403554706</td><td>-0.30281472</td></tr>\n",
       "\t<tr><td>-0.3626397 </td><td>-0.05023711</td><td>0.6674959  </td><td> 0.26908616</td><td>0.225647228</td><td>-0.19436515</td></tr>\n",
       "\t<tr><td> 1.2793512 </td><td>-0.06268101</td><td>0.6235239  </td><td> 0.33118417</td><td>0.001544326</td><td>-0.06813435</td></tr>\n",
       "\t<tr><td> 2.6192779 </td><td> 0.70382271</td><td>0.9949151  </td><td>-0.19919599</td><td>0.309976280</td><td> 0.08732570</td></tr>\n",
       "\t<tr><td>-1.7571845 </td><td>-0.70573748</td><td>0.4111965  </td><td>-0.26843393</td><td>0.168771440</td><td>-0.06932488</td></tr>\n",
       "\t<tr><td>-0.4353607 </td><td>-0.74735577</td><td>0.4059051  </td><td>-0.04938257</td><td>0.061009227</td><td> 0.13969565</td></tr>\n",
       "</tbody>\n",
       "</table>\n"
      ],
      "text/latex": [
       "\\begin{tabular}{llllll}\n",
       " PC1 & PC2 & PC3 & PC4 & PC5 & PC6\\\\\n",
       "\\hline\n",
       "\t -1.5554017  & -0.02146869 & 0.6660872   &  0.18406113 & 0.403554706 & -0.30281472\\\\\n",
       "\t -0.3626397  & -0.05023711 & 0.6674959   &  0.26908616 & 0.225647228 & -0.19436515\\\\\n",
       "\t  1.2793512  & -0.06268101 & 0.6235239   &  0.33118417 & 0.001544326 & -0.06813435\\\\\n",
       "\t  2.6192779  &  0.70382271 & 0.9949151   & -0.19919599 & 0.309976280 &  0.08732570\\\\\n",
       "\t -1.7571845  & -0.70573748 & 0.4111965   & -0.26843393 & 0.168771440 & -0.06932488\\\\\n",
       "\t -0.4353607  & -0.74735577 & 0.4059051   & -0.04938257 & 0.061009227 &  0.13969565\\\\\n",
       "\\end{tabular}\n"
      ],
      "text/markdown": [
       "\n",
       "| PC1 | PC2 | PC3 | PC4 | PC5 | PC6 |\n",
       "|---|---|---|---|---|---|\n",
       "| -1.5554017  | -0.02146869 | 0.6660872   |  0.18406113 | 0.403554706 | -0.30281472 |\n",
       "| -0.3626397  | -0.05023711 | 0.6674959   |  0.26908616 | 0.225647228 | -0.19436515 |\n",
       "|  1.2793512  | -0.06268101 | 0.6235239   |  0.33118417 | 0.001544326 | -0.06813435 |\n",
       "|  2.6192779  |  0.70382271 | 0.9949151   | -0.19919599 | 0.309976280 |  0.08732570 |\n",
       "| -1.7571845  | -0.70573748 | 0.4111965   | -0.26843393 | 0.168771440 | -0.06932488 |\n",
       "| -0.4353607  | -0.74735577 | 0.4059051   | -0.04938257 | 0.061009227 |  0.13969565 |\n",
       "\n"
      ],
      "text/plain": [
       "     PC1        PC2         PC3       PC4         PC5         PC6        \n",
       "[1,] -1.5554017 -0.02146869 0.6660872  0.18406113 0.403554706 -0.30281472\n",
       "[2,] -0.3626397 -0.05023711 0.6674959  0.26908616 0.225647228 -0.19436515\n",
       "[3,]  1.2793512 -0.06268101 0.6235239  0.33118417 0.001544326 -0.06813435\n",
       "[4,]  2.6192779  0.70382271 0.9949151 -0.19919599 0.309976280  0.08732570\n",
       "[5,] -1.7571845 -0.70573748 0.4111965 -0.26843393 0.168771440 -0.06932488\n",
       "[6,] -0.4353607 -0.74735577 0.4059051 -0.04938257 0.061009227  0.13969565"
      ]
     },
     "metadata": {},
     "output_type": "display_data"
    }
   ],
   "source": [
    "head(pr.out$x)"
   ]
  },
  {
   "cell_type": "code",
   "execution_count": 48,
   "metadata": {},
   "outputs": [
    {
     "data": {
      "text/html": [
       "<dl class=dl-horizontal>\n",
       "\t<dt>HitPoints</dt>\n",
       "\t\t<dd>69.25875</dd>\n",
       "\t<dt>Attack</dt>\n",
       "\t\t<dd>79.00125</dd>\n",
       "\t<dt>Defense</dt>\n",
       "\t\t<dd>73.8425</dd>\n",
       "\t<dt>SpecialAttack</dt>\n",
       "\t\t<dd>72.82</dd>\n",
       "\t<dt>SpecialDefense</dt>\n",
       "\t\t<dd>71.9025</dd>\n",
       "\t<dt>Speed</dt>\n",
       "\t\t<dd>68.2775</dd>\n",
       "</dl>\n"
      ],
      "text/latex": [
       "\\begin{description*}\n",
       "\\item[HitPoints] 69.25875\n",
       "\\item[Attack] 79.00125\n",
       "\\item[Defense] 73.8425\n",
       "\\item[SpecialAttack] 72.82\n",
       "\\item[SpecialDefense] 71.9025\n",
       "\\item[Speed] 68.2775\n",
       "\\end{description*}\n"
      ],
      "text/markdown": [
       "HitPoints\n",
       ":   69.25875Attack\n",
       ":   79.00125Defense\n",
       ":   73.8425SpecialAttack\n",
       ":   72.82SpecialDefense\n",
       ":   71.9025Speed\n",
       ":   68.2775\n",
       "\n"
      ],
      "text/plain": [
       "     HitPoints         Attack        Defense  SpecialAttack SpecialDefense \n",
       "      69.25875       79.00125       73.84250       72.82000       71.90250 \n",
       "         Speed \n",
       "      68.27750 "
      ]
     },
     "metadata": {},
     "output_type": "display_data"
    }
   ],
   "source": [
    "pr.out$center"
   ]
  },
  {
   "cell_type": "code",
   "execution_count": 49,
   "metadata": {},
   "outputs": [
    {
     "data": {
      "text/html": [
       "<dl class=dl-horizontal>\n",
       "\t<dt>HitPoints</dt>\n",
       "\t\t<dd>25.5346690323321</dd>\n",
       "\t<dt>Attack</dt>\n",
       "\t\t<dd>32.4573658694985</dd>\n",
       "\t<dt>Defense</dt>\n",
       "\t\t<dd>31.1835005593329</dd>\n",
       "\t<dt>SpecialAttack</dt>\n",
       "\t\t<dd>32.7222941688016</dd>\n",
       "\t<dt>SpecialDefense</dt>\n",
       "\t\t<dd>27.8289157971175</dd>\n",
       "\t<dt>Speed</dt>\n",
       "\t\t<dd>29.0604737171615</dd>\n",
       "</dl>\n"
      ],
      "text/latex": [
       "\\begin{description*}\n",
       "\\item[HitPoints] 25.5346690323321\n",
       "\\item[Attack] 32.4573658694985\n",
       "\\item[Defense] 31.1835005593329\n",
       "\\item[SpecialAttack] 32.7222941688016\n",
       "\\item[SpecialDefense] 27.8289157971175\n",
       "\\item[Speed] 29.0604737171615\n",
       "\\end{description*}\n"
      ],
      "text/markdown": [
       "HitPoints\n",
       ":   25.5346690323321Attack\n",
       ":   32.4573658694985Defense\n",
       ":   31.1835005593329SpecialAttack\n",
       ":   32.7222941688016SpecialDefense\n",
       ":   27.8289157971175Speed\n",
       ":   29.0604737171615\n",
       "\n"
      ],
      "text/plain": [
       "     HitPoints         Attack        Defense  SpecialAttack SpecialDefense \n",
       "      25.53467       32.45737       31.18350       32.72229       27.82892 \n",
       "         Speed \n",
       "      29.06047 "
      ]
     },
     "metadata": {},
     "output_type": "display_data"
    }
   ],
   "source": [
    "pr.out$scale"
   ]
  },
  {
   "cell_type": "markdown",
   "metadata": {},
   "source": [
    "## Visualizing and interpreting PCA results\n",
    "\n",
    "### Biplots in R"
   ]
  },
  {
   "cell_type": "code",
   "execution_count": 51,
   "metadata": {},
   "outputs": [
    {
     "data": {
      "image/png": "[encoded data removed]",
      "text/plain": [
       "plot without title"
      ]
     },
     "metadata": {},
     "output_type": "display_data"
    }
   ],
   "source": [
    "biplot(pr.iris)"
   ]
  },
  {
   "cell_type": "markdown",
   "metadata": {},
   "source": [
    "Petal.Width and Petal.Length are correlated in the original dataset."
   ]
  },
  {
   "cell_type": "markdown",
   "metadata": {},
   "source": [
    "### Scree plots in R"
   ]
  },
  {
   "cell_type": "code",
   "execution_count": 53,
   "metadata": {},
   "outputs": [
    {
     "data": {
      "image/png": "[encoded data removed]",
      "text/plain": [
       "Plot with title \"variance explained for each principal component\""
      ]
     },
     "metadata": {},
     "output_type": "display_data"
    }
   ],
   "source": [
    "# Getting proportion of variance for a scree plot\n",
    "pr.var <- pr.iris$sdev^2\n",
    "pve <- pr.var/sum(pr.var)\n",
    "# Plot variance explained for each principal component\n",
    "plot(pve, main=\"variance explained for each principal component\", \n",
    "     xlab=\"Principal component\", ylab=\"Proportion of Variance Explained\", ylim=c(0,1), type=\"b\")"
   ]
  },
  {
   "cell_type": "markdown",
   "metadata": {},
   "source": [
    "### Interpreting biplots (1)\n",
    "\n",
    "The `biplot()` function plots both the principal components loadings and the mapping of the observations to their first two principal component values. We will do interpretation of the `biplot()` visualization.\n",
    "\n",
    "Using the `biplot()` of the `pr.out` model, which two original variables have approximately the same loadings in the first two principal components?"
   ]
  },
  {
   "cell_type": "code",
   "execution_count": 54,
   "metadata": {},
   "outputs": [
    {
     "data": {
      "image/png": "[encoded data removed]",
      "text/plain": [
       "plot without title"
      ]
     },
     "metadata": {},
     "output_type": "display_data"
    }
   ],
   "source": [
    "biplot(pr.out)"
   ]
  },
  {
   "cell_type": "markdown",
   "metadata": {},
   "source": [
    "`Attack` and `HitPoints` have approximately the same loadings in the first two principal components"
   ]
  },
  {
   "cell_type": "markdown",
   "metadata": {},
   "source": [
    "### Variance explained\n",
    "\n",
    "The second common plot type for understanding PCA models is a scree plot. A scree plot shows the variance explained as the number of principal components increases. Sometimes the cumulative variance explained is plotted as well.\n",
    "\n",
    "We will prepare data from the `pr.out` modelfor use in a scree plot. Preparing the data for plotting is required because there is not a built-in function in R to create this type of plot."
   ]
  },
  {
   "cell_type": "code",
   "execution_count": 55,
   "metadata": {},
   "outputs": [],
   "source": [
    "# Variability of each principal component: pr.var\n",
    "pr.var <- pr.out$sdev^2\n",
    "\n",
    "# Variance explained by each principal component: pve\n",
    "pve <-pr.var / sum(pr.var)"
   ]
  },
  {
   "cell_type": "markdown",
   "metadata": {},
   "source": [
    "### Visualize variance explained\n",
    "\n",
    "Now we will create a scree plot showing the proportion of variance explained by each principal component, as well as the cumulative proportion of variance explained.\n",
    "\n",
    "These plots can help to determine the number of principal components to retain. One way to determine the number of principal components to retain is by looking for an elbow in the scree plot showing that as the number of principal components increases, the rate at which variance is explained decreases substantially. In the absence of a clear elbow, we can use the scree plot as a guide for setting a threshold."
   ]
  },
  {
   "cell_type": "code",
   "execution_count": 56,
   "metadata": {},
   "outputs": [
    {
     "data": {
      "image/png": "[encoded data removed]",
      "text/plain": [
       "plot without title"
      ]
     },
     "metadata": {},
     "output_type": "display_data"
    }
   ],
   "source": [
    "# Plot variance explained for each principal component\n",
    "plot(pve, xlab = \"Principal Component\",\n",
    "     ylab = \"Proportion of Variance Explained\",\n",
    "     ylim = c(0, 1), type = \"b\")\n",
    "\n"
   ]
  },
  {
   "cell_type": "code",
   "execution_count": 57,
   "metadata": {},
   "outputs": [
    {
     "data": {
      "image/png": "[encoded data removed]",
      "text/plain": [
       "plot without title"
      ]
     },
     "metadata": {},
     "output_type": "display_data"
    }
   ],
   "source": [
    "# Plot cumulative proportion of variance explained\n",
    "plot(cumsum(pve), xlab = \"Principal Component\",\n",
    "     ylab = \"Cumulative Proportion of Variance Explained\",\n",
    "     ylim = c(0, 1), type = \"b\")"
   ]
  },
  {
   "cell_type": "markdown",
   "metadata": {},
   "source": [
    "when the number of principal components is equal to the number of original features in the data, the cumulative proportion of variance explained is 1."
   ]
  },
  {
   "cell_type": "markdown",
   "metadata": {},
   "source": [
    "### Practical issues with PCA\n",
    "\n",
    "- Scaling the data\n",
    "- Missing values:\n",
    "  - Drop observations with missing values\n",
    "  - Impute / estimate missing values\n",
    "- Categorical data:\n",
    "  - Do not use categorical data features\n",
    "  - Encode categorical features as numbers\n"
   ]
  },
  {
   "cell_type": "markdown",
   "metadata": {},
   "source": [
    "### mtcars dataset"
   ]
  },
  {
   "cell_type": "code",
   "execution_count": 58,
   "metadata": {},
   "outputs": [
    {
     "data": {
      "text/html": [
       "<table>\n",
       "<thead><tr><th></th><th scope=col>mpg</th><th scope=col>cyl</th><th scope=col>disp</th><th scope=col>hp</th><th scope=col>drat</th><th scope=col>wt</th><th scope=col>qsec</th><th scope=col>vs</th><th scope=col>am</th><th scope=col>gear</th><th scope=col>carb</th></tr></thead>\n",
       "<tbody>\n",
       "\t<tr><th scope=row>Mazda RX4</th><td>21.0 </td><td>6    </td><td>160  </td><td>110  </td><td>3.90 </td><td>2.620</td><td>16.46</td><td>0    </td><td>1    </td><td>4    </td><td>4    </td></tr>\n",
       "\t<tr><th scope=row>Mazda RX4 Wag</th><td>21.0 </td><td>6    </td><td>160  </td><td>110  </td><td>3.90 </td><td>2.875</td><td>17.02</td><td>0    </td><td>1    </td><td>4    </td><td>4    </td></tr>\n",
       "\t<tr><th scope=row>Datsun 710</th><td>22.8 </td><td>4    </td><td>108  </td><td> 93  </td><td>3.85 </td><td>2.320</td><td>18.61</td><td>1    </td><td>1    </td><td>4    </td><td>1    </td></tr>\n",
       "\t<tr><th scope=row>Hornet 4 Drive</th><td>21.4 </td><td>6    </td><td>258  </td><td>110  </td><td>3.08 </td><td>3.215</td><td>19.44</td><td>1    </td><td>0    </td><td>3    </td><td>1    </td></tr>\n",
       "\t<tr><th scope=row>Hornet Sportabout</th><td>18.7 </td><td>8    </td><td>360  </td><td>175  </td><td>3.15 </td><td>3.440</td><td>17.02</td><td>0    </td><td>0    </td><td>3    </td><td>2    </td></tr>\n",
       "\t<tr><th scope=row>Valiant</th><td>18.1 </td><td>6    </td><td>225  </td><td>105  </td><td>2.76 </td><td>3.460</td><td>20.22</td><td>1    </td><td>0    </td><td>3    </td><td>1    </td></tr>\n",
       "</tbody>\n",
       "</table>\n"
      ],
      "text/latex": [
       "\\begin{tabular}{r|lllllllllll}\n",
       "  & mpg & cyl & disp & hp & drat & wt & qsec & vs & am & gear & carb\\\\\n",
       "\\hline\n",
       "\tMazda RX4 & 21.0  & 6     & 160   & 110   & 3.90  & 2.620 & 16.46 & 0     & 1     & 4     & 4    \\\\\n",
       "\tMazda RX4 Wag & 21.0  & 6     & 160   & 110   & 3.90  & 2.875 & 17.02 & 0     & 1     & 4     & 4    \\\\\n",
       "\tDatsun 710 & 22.8  & 4     & 108   &  93   & 3.85  & 2.320 & 18.61 & 1     & 1     & 4     & 1    \\\\\n",
       "\tHornet 4 Drive & 21.4  & 6     & 258   & 110   & 3.08  & 3.215 & 19.44 & 1     & 0     & 3     & 1    \\\\\n",
       "\tHornet Sportabout & 18.7  & 8     & 360   & 175   & 3.15  & 3.440 & 17.02 & 0     & 0     & 3     & 2    \\\\\n",
       "\tValiant & 18.1  & 6     & 225   & 105   & 2.76  & 3.460 & 20.22 & 1     & 0     & 3     & 1    \\\\\n",
       "\\end{tabular}\n"
      ],
      "text/markdown": [
       "\n",
       "| <!--/--> | mpg | cyl | disp | hp | drat | wt | qsec | vs | am | gear | carb |\n",
       "|---|---|---|---|---|---|---|---|---|---|---|---|\n",
       "| Mazda RX4 | 21.0  | 6     | 160   | 110   | 3.90  | 2.620 | 16.46 | 0     | 1     | 4     | 4     |\n",
       "| Mazda RX4 Wag | 21.0  | 6     | 160   | 110   | 3.90  | 2.875 | 17.02 | 0     | 1     | 4     | 4     |\n",
       "| Datsun 710 | 22.8  | 4     | 108   |  93   | 3.85  | 2.320 | 18.61 | 1     | 1     | 4     | 1     |\n",
       "| Hornet 4 Drive | 21.4  | 6     | 258   | 110   | 3.08  | 3.215 | 19.44 | 1     | 0     | 3     | 1     |\n",
       "| Hornet Sportabout | 18.7  | 8     | 360   | 175   | 3.15  | 3.440 | 17.02 | 0     | 0     | 3     | 2     |\n",
       "| Valiant | 18.1  | 6     | 225   | 105   | 2.76  | 3.460 | 20.22 | 1     | 0     | 3     | 1     |\n",
       "\n"
      ],
      "text/plain": [
       "                  mpg  cyl disp hp  drat wt    qsec  vs am gear carb\n",
       "Mazda RX4         21.0 6   160  110 3.90 2.620 16.46 0  1  4    4   \n",
       "Mazda RX4 Wag     21.0 6   160  110 3.90 2.875 17.02 0  1  4    4   \n",
       "Datsun 710        22.8 4   108   93 3.85 2.320 18.61 1  1  4    1   \n",
       "Hornet 4 Drive    21.4 6   258  110 3.08 3.215 19.44 1  0  3    1   \n",
       "Hornet Sportabout 18.7 8   360  175 3.15 3.440 17.02 0  0  3    2   \n",
       "Valiant           18.1 6   225  105 2.76 3.460 20.22 1  0  3    1   "
      ]
     },
     "metadata": {},
     "output_type": "display_data"
    }
   ],
   "source": [
    "head(mtcars)"
   ]
  },
  {
   "cell_type": "markdown",
   "metadata": {},
   "source": [
    "### Scaling"
   ]
  },
  {
   "cell_type": "code",
   "execution_count": 60,
   "metadata": {},
   "outputs": [
    {
     "data": {
      "text/html": [
       "<dl class=dl-horizontal>\n",
       "\t<dt>mpg</dt>\n",
       "\t\t<dd>20.09</dd>\n",
       "\t<dt>cyl</dt>\n",
       "\t\t<dd>6.19</dd>\n",
       "\t<dt>disp</dt>\n",
       "\t\t<dd>230.72</dd>\n",
       "\t<dt>hp</dt>\n",
       "\t\t<dd>146.69</dd>\n",
       "\t<dt>drat</dt>\n",
       "\t\t<dd>3.6</dd>\n",
       "\t<dt>wt</dt>\n",
       "\t\t<dd>3.22</dd>\n",
       "\t<dt>qsec</dt>\n",
       "\t\t<dd>17.85</dd>\n",
       "\t<dt>vs</dt>\n",
       "\t\t<dd>0.44</dd>\n",
       "\t<dt>am</dt>\n",
       "\t\t<dd>0.41</dd>\n",
       "\t<dt>gear</dt>\n",
       "\t\t<dd>3.69</dd>\n",
       "\t<dt>carb</dt>\n",
       "\t\t<dd>2.81</dd>\n",
       "</dl>\n"
      ],
      "text/latex": [
       "\\begin{description*}\n",
       "\\item[mpg] 20.09\n",
       "\\item[cyl] 6.19\n",
       "\\item[disp] 230.72\n",
       "\\item[hp] 146.69\n",
       "\\item[drat] 3.6\n",
       "\\item[wt] 3.22\n",
       "\\item[qsec] 17.85\n",
       "\\item[vs] 0.44\n",
       "\\item[am] 0.41\n",
       "\\item[gear] 3.69\n",
       "\\item[carb] 2.81\n",
       "\\end{description*}\n"
      ],
      "text/markdown": [
       "mpg\n",
       ":   20.09cyl\n",
       ":   6.19disp\n",
       ":   230.72hp\n",
       ":   146.69drat\n",
       ":   3.6wt\n",
       ":   3.22qsec\n",
       ":   17.85vs\n",
       ":   0.44am\n",
       ":   0.41gear\n",
       ":   3.69carb\n",
       ":   2.81\n",
       "\n"
      ],
      "text/plain": [
       "   mpg    cyl   disp     hp   drat     wt   qsec     vs     am   gear   carb \n",
       " 20.09   6.19 230.72 146.69   3.60   3.22  17.85   0.44   0.41   3.69   2.81 "
      ]
     },
     "metadata": {},
     "output_type": "display_data"
    }
   ],
   "source": [
    "# Means and standard deviations vary a lot\n",
    "round(colMeans(mtcars), 2)"
   ]
  },
  {
   "cell_type": "code",
   "execution_count": 61,
   "metadata": {},
   "outputs": [
    {
     "data": {
      "text/html": [
       "<dl class=dl-horizontal>\n",
       "\t<dt>mpg</dt>\n",
       "\t\t<dd>6.03</dd>\n",
       "\t<dt>cyl</dt>\n",
       "\t\t<dd>1.79</dd>\n",
       "\t<dt>disp</dt>\n",
       "\t\t<dd>123.94</dd>\n",
       "\t<dt>hp</dt>\n",
       "\t\t<dd>68.56</dd>\n",
       "\t<dt>drat</dt>\n",
       "\t\t<dd>0.53</dd>\n",
       "\t<dt>wt</dt>\n",
       "\t\t<dd>0.98</dd>\n",
       "\t<dt>qsec</dt>\n",
       "\t\t<dd>1.79</dd>\n",
       "\t<dt>vs</dt>\n",
       "\t\t<dd>0.5</dd>\n",
       "\t<dt>am</dt>\n",
       "\t\t<dd>0.5</dd>\n",
       "\t<dt>gear</dt>\n",
       "\t\t<dd>0.74</dd>\n",
       "\t<dt>carb</dt>\n",
       "\t\t<dd>1.62</dd>\n",
       "</dl>\n"
      ],
      "text/latex": [
       "\\begin{description*}\n",
       "\\item[mpg] 6.03\n",
       "\\item[cyl] 1.79\n",
       "\\item[disp] 123.94\n",
       "\\item[hp] 68.56\n",
       "\\item[drat] 0.53\n",
       "\\item[wt] 0.98\n",
       "\\item[qsec] 1.79\n",
       "\\item[vs] 0.5\n",
       "\\item[am] 0.5\n",
       "\\item[gear] 0.74\n",
       "\\item[carb] 1.62\n",
       "\\end{description*}\n"
      ],
      "text/markdown": [
       "mpg\n",
       ":   6.03cyl\n",
       ":   1.79disp\n",
       ":   123.94hp\n",
       ":   68.56drat\n",
       ":   0.53wt\n",
       ":   0.98qsec\n",
       ":   1.79vs\n",
       ":   0.5am\n",
       ":   0.5gear\n",
       ":   0.74carb\n",
       ":   1.62\n",
       "\n"
      ],
      "text/plain": [
       "   mpg    cyl   disp     hp   drat     wt   qsec     vs     am   gear   carb \n",
       "  6.03   1.79 123.94  68.56   0.53   0.98   1.79   0.50   0.50   0.74   1.62 "
      ]
     },
     "metadata": {},
     "output_type": "display_data"
    }
   ],
   "source": [
    "round(apply(mtcars, 2, sd), 2)"
   ]
  },
  {
   "cell_type": "code",
   "execution_count": 62,
   "metadata": {},
   "outputs": [
    {
     "data": {
      "image/png": "[encoded data removed]",
      "text/plain": [
       "plot without title"
      ]
     },
     "metadata": {},
     "output_type": "display_data"
    }
   ],
   "source": [
    "biplot(prcomp(mtcars, center=T, scale=F))"
   ]
  },
  {
   "cell_type": "code",
   "execution_count": 63,
   "metadata": {},
   "outputs": [
    {
     "data": {
      "image/png": "[encoded data removed]",
      "text/plain": [
       "plot without title"
      ]
     },
     "metadata": {},
     "output_type": "display_data"
    }
   ],
   "source": [
    "biplot(prcomp(mtcars, scale=T, center=T))"
   ]
  },
  {
   "cell_type": "markdown",
   "metadata": {},
   "source": [
    "### Practical issues: scaling\n",
    "\n",
    "Scaling data before doing PCA changes the results of the PCA modeling. Here, we will perform PCA with and without scaling, then visualize the results using biplots.\n",
    "\n",
    "Sometimes scaling is appropriate when the variances of the variables are substantially different. This is commonly the case when variables have different units of measurement, for example, degrees Fahrenheit (temperature) and miles (distance). Making the decision to use scaling is an important step in performing a principal component analysis."
   ]
  },
  {
   "cell_type": "code",
   "execution_count": 65,
   "metadata": {},
   "outputs": [
    {
     "name": "stderr",
     "output_type": "stream",
     "text": [
      "Parsed with column specification:\n",
      "cols(\n",
      "  Number = col_double(),\n",
      "  Name = col_character(),\n",
      "  Type1 = col_character(),\n",
      "  Type2 = col_character(),\n",
      "  Total = col_double(),\n",
      "  HitPoints = col_double(),\n",
      "  Attack = col_double(),\n",
      "  Defense = col_double(),\n",
      "  SpecialAttack = col_double(),\n",
      "  SpecialDefense = col_double(),\n",
      "  Speed = col_double(),\n",
      "  Generation = col_double(),\n",
      "  Legendary = col_logical()\n",
      ")\n"
     ]
    },
    {
     "data": {
      "text/html": [
       "<table>\n",
       "<thead><tr><th scope=col>Number</th><th scope=col>Name</th><th scope=col>Type1</th><th scope=col>Type2</th><th scope=col>Total</th><th scope=col>HitPoints</th><th scope=col>Attack</th><th scope=col>Defense</th><th scope=col>SpecialAttack</th><th scope=col>SpecialDefense</th><th scope=col>Speed</th><th scope=col>Generation</th><th scope=col>Legendary</th></tr></thead>\n",
       "<tbody>\n",
       "\t<tr><td>1                    </td><td>Bulbasaur            </td><td>Grass                </td><td>Poison               </td><td>318                  </td><td>45                   </td><td> 49                  </td><td> 49                  </td><td> 65                  </td><td> 65                  </td><td>45                   </td><td>1                    </td><td>FALSE                </td></tr>\n",
       "\t<tr><td>2                    </td><td>Ivysaur              </td><td>Grass                </td><td>Poison               </td><td>405                  </td><td>60                   </td><td> 62                  </td><td> 63                  </td><td> 80                  </td><td> 80                  </td><td>60                   </td><td>1                    </td><td>FALSE                </td></tr>\n",
       "\t<tr><td>3                    </td><td>Venusaur             </td><td>Grass                </td><td>Poison               </td><td>525                  </td><td>80                   </td><td> 82                  </td><td> 83                  </td><td>100                  </td><td>100                  </td><td>80                   </td><td>1                    </td><td>FALSE                </td></tr>\n",
       "\t<tr><td>3                    </td><td>VenusaurMega Venusaur</td><td>Grass                </td><td>Poison               </td><td>625                  </td><td>80                   </td><td>100                  </td><td>123                  </td><td>122                  </td><td>120                  </td><td>80                   </td><td>1                    </td><td>FALSE                </td></tr>\n",
       "\t<tr><td>4                    </td><td>Charmander           </td><td>Fire                 </td><td>NA                   </td><td>309                  </td><td>39                   </td><td> 52                  </td><td> 43                  </td><td> 60                  </td><td> 50                  </td><td>65                   </td><td>1                    </td><td>FALSE                </td></tr>\n",
       "\t<tr><td>5                    </td><td>Charmeleon           </td><td>Fire                 </td><td>NA                   </td><td>405                  </td><td>58                   </td><td> 64                  </td><td> 58                  </td><td> 80                  </td><td> 65                  </td><td>80                   </td><td>1                    </td><td>FALSE                </td></tr>\n",
       "</tbody>\n",
       "</table>\n"
      ],
      "text/latex": [
       "\\begin{tabular}{r|lllllllllllll}\n",
       " Number & Name & Type1 & Type2 & Total & HitPoints & Attack & Defense & SpecialAttack & SpecialDefense & Speed & Generation & Legendary\\\\\n",
       "\\hline\n",
       "\t 1                     & Bulbasaur             & Grass                 & Poison                & 318                   & 45                    &  49                   &  49                   &  65                   &  65                   & 45                    & 1                     & FALSE                \\\\\n",
       "\t 2                     & Ivysaur               & Grass                 & Poison                & 405                   & 60                    &  62                   &  63                   &  80                   &  80                   & 60                    & 1                     & FALSE                \\\\\n",
       "\t 3                     & Venusaur              & Grass                 & Poison                & 525                   & 80                    &  82                   &  83                   & 100                   & 100                   & 80                    & 1                     & FALSE                \\\\\n",
       "\t 3                     & VenusaurMega Venusaur & Grass                 & Poison                & 625                   & 80                    & 100                   & 123                   & 122                   & 120                   & 80                    & 1                     & FALSE                \\\\\n",
       "\t 4                     & Charmander            & Fire                  & NA                    & 309                   & 39                    &  52                   &  43                   &  60                   &  50                   & 65                    & 1                     & FALSE                \\\\\n",
       "\t 5                     & Charmeleon            & Fire                  & NA                    & 405                   & 58                    &  64                   &  58                   &  80                   &  65                   & 80                    & 1                     & FALSE                \\\\\n",
       "\\end{tabular}\n"
      ],
      "text/markdown": [
       "\n",
       "| Number | Name | Type1 | Type2 | Total | HitPoints | Attack | Defense | SpecialAttack | SpecialDefense | Speed | Generation | Legendary |\n",
       "|---|---|---|---|---|---|---|---|---|---|---|---|---|\n",
       "| 1                     | Bulbasaur             | Grass                 | Poison                | 318                   | 45                    |  49                   |  49                   |  65                   |  65                   | 45                    | 1                     | FALSE                 |\n",
       "| 2                     | Ivysaur               | Grass                 | Poison                | 405                   | 60                    |  62                   |  63                   |  80                   |  80                   | 60                    | 1                     | FALSE                 |\n",
       "| 3                     | Venusaur              | Grass                 | Poison                | 525                   | 80                    |  82                   |  83                   | 100                   | 100                   | 80                    | 1                     | FALSE                 |\n",
       "| 3                     | VenusaurMega Venusaur | Grass                 | Poison                | 625                   | 80                    | 100                   | 123                   | 122                   | 120                   | 80                    | 1                     | FALSE                 |\n",
       "| 4                     | Charmander            | Fire                  | NA                    | 309                   | 39                    |  52                   |  43                   |  60                   |  50                   | 65                    | 1                     | FALSE                 |\n",
       "| 5                     | Charmeleon            | Fire                  | NA                    | 405                   | 58                    |  64                   |  58                   |  80                   |  65                   | 80                    | 1                     | FALSE                 |\n",
       "\n"
      ],
      "text/plain": [
       "  Number Name                  Type1 Type2  Total HitPoints Attack Defense\n",
       "1 1      Bulbasaur             Grass Poison 318   45         49     49    \n",
       "2 2      Ivysaur               Grass Poison 405   60         62     63    \n",
       "3 3      Venusaur              Grass Poison 525   80         82     83    \n",
       "4 3      VenusaurMega Venusaur Grass Poison 625   80        100    123    \n",
       "5 4      Charmander            Fire  NA     309   39         52     43    \n",
       "6 5      Charmeleon            Fire  NA     405   58         64     58    \n",
       "  SpecialAttack SpecialDefense Speed Generation Legendary\n",
       "1  65            65            45    1          FALSE    \n",
       "2  80            80            60    1          FALSE    \n",
       "3 100           100            80    1          FALSE    \n",
       "4 122           120            80    1          FALSE    \n",
       "5  60            50            65    1          FALSE    \n",
       "6  80            65            80    1          FALSE    "
      ]
     },
     "metadata": {},
     "output_type": "display_data"
    }
   ],
   "source": [
    "head(pokemon <- read_csv(\"datasets//Pokemon.csv\"))"
   ]
  },
  {
   "cell_type": "code",
   "execution_count": 66,
   "metadata": {},
   "outputs": [
    {
     "data": {
      "text/html": [
       "<table>\n",
       "<thead><tr><th scope=col>Total</th><th scope=col>HitPoints</th><th scope=col>Attack</th><th scope=col>Defense</th><th scope=col>Speed</th></tr></thead>\n",
       "<tbody>\n",
       "\t<tr><td>318</td><td>45 </td><td> 49</td><td> 49</td><td>45 </td></tr>\n",
       "\t<tr><td>405</td><td>60 </td><td> 62</td><td> 63</td><td>60 </td></tr>\n",
       "\t<tr><td>525</td><td>80 </td><td> 82</td><td> 83</td><td>80 </td></tr>\n",
       "\t<tr><td>625</td><td>80 </td><td>100</td><td>123</td><td>80 </td></tr>\n",
       "\t<tr><td>309</td><td>39 </td><td> 52</td><td> 43</td><td>65 </td></tr>\n",
       "\t<tr><td>405</td><td>58 </td><td> 64</td><td> 58</td><td>80 </td></tr>\n",
       "</tbody>\n",
       "</table>\n"
      ],
      "text/latex": [
       "\\begin{tabular}{r|lllll}\n",
       " Total & HitPoints & Attack & Defense & Speed\\\\\n",
       "\\hline\n",
       "\t 318 & 45  &  49 &  49 & 45 \\\\\n",
       "\t 405 & 60  &  62 &  63 & 60 \\\\\n",
       "\t 525 & 80  &  82 &  83 & 80 \\\\\n",
       "\t 625 & 80  & 100 & 123 & 80 \\\\\n",
       "\t 309 & 39  &  52 &  43 & 65 \\\\\n",
       "\t 405 & 58  &  64 &  58 & 80 \\\\\n",
       "\\end{tabular}\n"
      ],
      "text/markdown": [
       "\n",
       "| Total | HitPoints | Attack | Defense | Speed |\n",
       "|---|---|---|---|---|\n",
       "| 318 | 45  |  49 |  49 | 45  |\n",
       "| 405 | 60  |  62 |  63 | 60  |\n",
       "| 525 | 80  |  82 |  83 | 80  |\n",
       "| 625 | 80  | 100 | 123 | 80  |\n",
       "| 309 | 39  |  52 |  43 | 65  |\n",
       "| 405 | 58  |  64 |  58 | 80  |\n",
       "\n"
      ],
      "text/plain": [
       "  Total HitPoints Attack Defense Speed\n",
       "1 318   45         49     49     45   \n",
       "2 405   60         62     63     60   \n",
       "3 525   80         82     83     80   \n",
       "4 625   80        100    123     80   \n",
       "5 309   39         52     43     65   \n",
       "6 405   58         64     58     80   "
      ]
     },
     "metadata": {},
     "output_type": "display_data"
    }
   ],
   "source": [
    "head(pokemon <- pokemon%>%\n",
    "    select(Total, HitPoints, Attack, Defense, Speed))"
   ]
  },
  {
   "cell_type": "code",
   "execution_count": 67,
   "metadata": {},
   "outputs": [
    {
     "data": {
      "text/html": [
       "<dl class=dl-horizontal>\n",
       "\t<dt>Total</dt>\n",
       "\t\t<dd>435.1025</dd>\n",
       "\t<dt>HitPoints</dt>\n",
       "\t\t<dd>69.25875</dd>\n",
       "\t<dt>Attack</dt>\n",
       "\t\t<dd>79.00125</dd>\n",
       "\t<dt>Defense</dt>\n",
       "\t\t<dd>73.8425</dd>\n",
       "\t<dt>Speed</dt>\n",
       "\t\t<dd>68.2775</dd>\n",
       "</dl>\n"
      ],
      "text/latex": [
       "\\begin{description*}\n",
       "\\item[Total] 435.1025\n",
       "\\item[HitPoints] 69.25875\n",
       "\\item[Attack] 79.00125\n",
       "\\item[Defense] 73.8425\n",
       "\\item[Speed] 68.2775\n",
       "\\end{description*}\n"
      ],
      "text/markdown": [
       "Total\n",
       ":   435.1025HitPoints\n",
       ":   69.25875Attack\n",
       ":   79.00125Defense\n",
       ":   73.8425Speed\n",
       ":   68.2775\n",
       "\n"
      ],
      "text/plain": [
       "    Total HitPoints    Attack   Defense     Speed \n",
       "435.10250  69.25875  79.00125  73.84250  68.27750 "
      ]
     },
     "metadata": {},
     "output_type": "display_data"
    }
   ],
   "source": [
    "# Mean of each variable\n",
    "colMeans(pokemon)"
   ]
  },
  {
   "cell_type": "code",
   "execution_count": 68,
   "metadata": {},
   "outputs": [
    {
     "data": {
      "text/html": [
       "<dl class=dl-horizontal>\n",
       "\t<dt>Total</dt>\n",
       "\t\t<dd>119.963039755519</dd>\n",
       "\t<dt>HitPoints</dt>\n",
       "\t\t<dd>25.5346690323321</dd>\n",
       "\t<dt>Attack</dt>\n",
       "\t\t<dd>32.4573658694985</dd>\n",
       "\t<dt>Defense</dt>\n",
       "\t\t<dd>31.1835005593329</dd>\n",
       "\t<dt>Speed</dt>\n",
       "\t\t<dd>29.0604737171615</dd>\n",
       "</dl>\n"
      ],
      "text/latex": [
       "\\begin{description*}\n",
       "\\item[Total] 119.963039755519\n",
       "\\item[HitPoints] 25.5346690323321\n",
       "\\item[Attack] 32.4573658694985\n",
       "\\item[Defense] 31.1835005593329\n",
       "\\item[Speed] 29.0604737171615\n",
       "\\end{description*}\n"
      ],
      "text/markdown": [
       "Total\n",
       ":   119.963039755519HitPoints\n",
       ":   25.5346690323321Attack\n",
       ":   32.4573658694985Defense\n",
       ":   31.1835005593329Speed\n",
       ":   29.0604737171615\n",
       "\n"
      ],
      "text/plain": [
       "    Total HitPoints    Attack   Defense     Speed \n",
       "119.96304  25.53467  32.45737  31.18350  29.06047 "
      ]
     },
     "metadata": {},
     "output_type": "display_data"
    }
   ],
   "source": [
    "# Standard deviation of each variable\n",
    "apply(pokemon, 2, sd)"
   ]
  },
  {
   "cell_type": "code",
   "execution_count": 69,
   "metadata": {},
   "outputs": [
    {
     "data": {
      "image/png": "[encoded data removed]",
      "text/plain": [
       "plot without title"
      ]
     },
     "metadata": {},
     "output_type": "display_data"
    }
   ],
   "source": [
    "# PCA model with scaling: pr.with.scaling\n",
    "pr.with.scaling <- prcomp(pokemon, center=T, scale=T)\n",
    "\n",
    "# PCA model without scaling: pr.without.scaling\n",
    "pr.without.scaling <- prcomp(pokemon, center=T, scale=F)\n",
    "\n",
    "# Create biplots of both for comparison\n",
    "biplot(pr.with.scaling)"
   ]
  },
  {
   "cell_type": "code",
   "execution_count": 70,
   "metadata": {},
   "outputs": [
    {
     "data": {
      "image/png": "[encoded data removed]",
      "text/plain": [
       "plot without title"
      ]
     },
     "metadata": {},
     "output_type": "display_data"
    }
   ],
   "source": [
    "biplot(pr.without.scaling)"
   ]
  },
  {
   "cell_type": "markdown",
   "metadata": {},
   "source": [
    "The new Total column contains much more variation, on average, than the other four columns, so it has a disproportionate effect on the PCA model when scaling is not performed. After scaling the data, there's a much more even distribution of the loading vectors."
   ]
  },
  {
   "cell_type": "markdown",
   "metadata": {},
   "source": [
    "# Exploring Wisconsin breast cancer data\n",
    "\n",
    "## Introduction to the case study\n",
    "\n",
    "- Human breast mass data:\n",
    "  - Ten features measured of each cell nuclei\n",
    "  - Summary information is provided for each group of cells\n",
    "  - Includes diagnosis: benign (not cancerous) and malignant (cancerous)"
   ]
  },
  {
   "cell_type": "markdown",
   "metadata": {},
   "source": [
    "### Analysis\n",
    "- Download data and prepare data for modeling\n",
    "- Exploratory data analysis (# observations, # features, etc.)\n",
    "- Perform PCA and interpret results\n",
    "- Complete two types of clusteringUnderstand and compare the two types\n",
    "- Combine PCA and clustering\n"
   ]
  },
  {
   "cell_type": "markdown",
   "metadata": {},
   "source": [
    "### Preparing the data"
   ]
  },
  {
   "cell_type": "code",
   "execution_count": 71,
   "metadata": {},
   "outputs": [],
   "source": [
    "url <- \"datasets//WisconsinCancer.csv\"\n",
    "\n",
    "# Download the data: wisc.df\n",
    "wisc.df <- read.csv(url)\n",
    "\n",
    "# Convert the features of the data: wisc.data\n",
    "wisc.data <- as.matrix(wisc.df[3:32])\n",
    "\n",
    "# Set the row names of wisc.data\n",
    "row.names(wisc.data) <- wisc.df$id\n",
    "\n",
    "# Create diagnosis vector\n",
    "diagnosis <- as.numeric(wisc.df$diagnosis == \"M\")"
   ]
  },
  {
   "cell_type": "markdown",
   "metadata": {},
   "source": [
    "### Exploratory data analysis\n",
    "\n",
    "- How many observations are in this dataset?"
   ]
  },
  {
   "cell_type": "code",
   "execution_count": 72,
   "metadata": {},
   "outputs": [
    {
     "data": {
      "text/html": [
       "<ol class=list-inline>\n",
       "\t<li>569</li>\n",
       "\t<li>30</li>\n",
       "</ol>\n"
      ],
      "text/latex": [
       "\\begin{enumerate*}\n",
       "\\item 569\n",
       "\\item 30\n",
       "\\end{enumerate*}\n"
      ],
      "text/markdown": [
       "1. 569\n",
       "2. 30\n",
       "\n",
       "\n"
      ],
      "text/plain": [
       "[1] 569  30"
      ]
     },
     "metadata": {},
     "output_type": "display_data"
    }
   ],
   "source": [
    "dim(wisc.data)"
   ]
  },
  {
   "cell_type": "code",
   "execution_count": 73,
   "metadata": {},
   "outputs": [
    {
     "data": {
      "text/html": [
       "<ol class=list-inline>\n",
       "\t<li>'id'</li>\n",
       "\t<li>'diagnosis'</li>\n",
       "\t<li>'radius_mean'</li>\n",
       "\t<li>'texture_mean'</li>\n",
       "\t<li>'perimeter_mean'</li>\n",
       "\t<li>'area_mean'</li>\n",
       "\t<li>'smoothness_mean'</li>\n",
       "\t<li>'compactness_mean'</li>\n",
       "\t<li>'concavity_mean'</li>\n",
       "\t<li>'concave.points_mean'</li>\n",
       "\t<li>'symmetry_mean'</li>\n",
       "\t<li>'fractal_dimension_mean'</li>\n",
       "\t<li>'radius_se'</li>\n",
       "\t<li>'texture_se'</li>\n",
       "\t<li>'perimeter_se'</li>\n",
       "\t<li>'area_se'</li>\n",
       "\t<li>'smoothness_se'</li>\n",
       "\t<li>'compactness_se'</li>\n",
       "\t<li>'concavity_se'</li>\n",
       "\t<li>'concave.points_se'</li>\n",
       "\t<li>'symmetry_se'</li>\n",
       "\t<li>'fractal_dimension_se'</li>\n",
       "\t<li>'radius_worst'</li>\n",
       "\t<li>'texture_worst'</li>\n",
       "\t<li>'perimeter_worst'</li>\n",
       "\t<li>'area_worst'</li>\n",
       "\t<li>'smoothness_worst'</li>\n",
       "\t<li>'compactness_worst'</li>\n",
       "\t<li>'concavity_worst'</li>\n",
       "\t<li>'concave.points_worst'</li>\n",
       "\t<li>'symmetry_worst'</li>\n",
       "\t<li>'fractal_dimension_worst'</li>\n",
       "\t<li>'X'</li>\n",
       "</ol>\n"
      ],
      "text/latex": [
       "\\begin{enumerate*}\n",
       "\\item 'id'\n",
       "\\item 'diagnosis'\n",
       "\\item 'radius\\_mean'\n",
       "\\item 'texture\\_mean'\n",
       "\\item 'perimeter\\_mean'\n",
       "\\item 'area\\_mean'\n",
       "\\item 'smoothness\\_mean'\n",
       "\\item 'compactness\\_mean'\n",
       "\\item 'concavity\\_mean'\n",
       "\\item 'concave.points\\_mean'\n",
       "\\item 'symmetry\\_mean'\n",
       "\\item 'fractal\\_dimension\\_mean'\n",
       "\\item 'radius\\_se'\n",
       "\\item 'texture\\_se'\n",
       "\\item 'perimeter\\_se'\n",
       "\\item 'area\\_se'\n",
       "\\item 'smoothness\\_se'\n",
       "\\item 'compactness\\_se'\n",
       "\\item 'concavity\\_se'\n",
       "\\item 'concave.points\\_se'\n",
       "\\item 'symmetry\\_se'\n",
       "\\item 'fractal\\_dimension\\_se'\n",
       "\\item 'radius\\_worst'\n",
       "\\item 'texture\\_worst'\n",
       "\\item 'perimeter\\_worst'\n",
       "\\item 'area\\_worst'\n",
       "\\item 'smoothness\\_worst'\n",
       "\\item 'compactness\\_worst'\n",
       "\\item 'concavity\\_worst'\n",
       "\\item 'concave.points\\_worst'\n",
       "\\item 'symmetry\\_worst'\n",
       "\\item 'fractal\\_dimension\\_worst'\n",
       "\\item 'X'\n",
       "\\end{enumerate*}\n"
      ],
      "text/markdown": [
       "1. 'id'\n",
       "2. 'diagnosis'\n",
       "3. 'radius_mean'\n",
       "4. 'texture_mean'\n",
       "5. 'perimeter_mean'\n",
       "6. 'area_mean'\n",
       "7. 'smoothness_mean'\n",
       "8. 'compactness_mean'\n",
       "9. 'concavity_mean'\n",
       "10. 'concave.points_mean'\n",
       "11. 'symmetry_mean'\n",
       "12. 'fractal_dimension_mean'\n",
       "13. 'radius_se'\n",
       "14. 'texture_se'\n",
       "15. 'perimeter_se'\n",
       "16. 'area_se'\n",
       "17. 'smoothness_se'\n",
       "18. 'compactness_se'\n",
       "19. 'concavity_se'\n",
       "20. 'concave.points_se'\n",
       "21. 'symmetry_se'\n",
       "22. 'fractal_dimension_se'\n",
       "23. 'radius_worst'\n",
       "24. 'texture_worst'\n",
       "25. 'perimeter_worst'\n",
       "26. 'area_worst'\n",
       "27. 'smoothness_worst'\n",
       "28. 'compactness_worst'\n",
       "29. 'concavity_worst'\n",
       "30. 'concave.points_worst'\n",
       "31. 'symmetry_worst'\n",
       "32. 'fractal_dimension_worst'\n",
       "33. 'X'\n",
       "\n",
       "\n"
      ],
      "text/plain": [
       " [1] \"id\"                      \"diagnosis\"              \n",
       " [3] \"radius_mean\"             \"texture_mean\"           \n",
       " [5] \"perimeter_mean\"          \"area_mean\"              \n",
       " [7] \"smoothness_mean\"         \"compactness_mean\"       \n",
       " [9] \"concavity_mean\"          \"concave.points_mean\"    \n",
       "[11] \"symmetry_mean\"           \"fractal_dimension_mean\" \n",
       "[13] \"radius_se\"               \"texture_se\"             \n",
       "[15] \"perimeter_se\"            \"area_se\"                \n",
       "[17] \"smoothness_se\"           \"compactness_se\"         \n",
       "[19] \"concavity_se\"            \"concave.points_se\"      \n",
       "[21] \"symmetry_se\"             \"fractal_dimension_se\"   \n",
       "[23] \"radius_worst\"            \"texture_worst\"          \n",
       "[25] \"perimeter_worst\"         \"area_worst\"             \n",
       "[27] \"smoothness_worst\"        \"compactness_worst\"      \n",
       "[29] \"concavity_worst\"         \"concave.points_worst\"   \n",
       "[31] \"symmetry_worst\"          \"fractal_dimension_worst\"\n",
       "[33] \"X\"                      "
      ]
     },
     "metadata": {},
     "output_type": "display_data"
    }
   ],
   "source": [
    "names(wisc.df)"
   ]
  },
  {
   "cell_type": "markdown",
   "metadata": {},
   "source": [
    "### Performing PCA\n",
    "The next step  is to perform PCA on wisc.data.\n",
    "\n",
    "it's important to check if the data need to be scaled before performing PCA. Two common reasons for scaling data:\n",
    "\n",
    "- The input variables use different units of measurement.\n",
    "- The input variables have significantly different variances."
   ]
  },
  {
   "cell_type": "code",
   "execution_count": 74,
   "metadata": {},
   "outputs": [
    {
     "data": {
      "text/html": [
       "<dl class=dl-horizontal>\n",
       "\t<dt>radius_mean</dt>\n",
       "\t\t<dd>14.1272917398946</dd>\n",
       "\t<dt>texture_mean</dt>\n",
       "\t\t<dd>19.2896485061511</dd>\n",
       "\t<dt>perimeter_mean</dt>\n",
       "\t\t<dd>91.9690333919156</dd>\n",
       "\t<dt>area_mean</dt>\n",
       "\t\t<dd>654.889103690685</dd>\n",
       "\t<dt>smoothness_mean</dt>\n",
       "\t\t<dd>0.0963602811950791</dd>\n",
       "\t<dt>compactness_mean</dt>\n",
       "\t\t<dd>0.104340984182777</dd>\n",
       "\t<dt>concavity_mean</dt>\n",
       "\t\t<dd>0.0887993158172232</dd>\n",
       "\t<dt>concave.points_mean</dt>\n",
       "\t\t<dd>0.0489191458699473</dd>\n",
       "\t<dt>symmetry_mean</dt>\n",
       "\t\t<dd>0.181161862917399</dd>\n",
       "\t<dt>fractal_dimension_mean</dt>\n",
       "\t\t<dd>0.0627976098418278</dd>\n",
       "\t<dt>radius_se</dt>\n",
       "\t\t<dd>0.405172056239016</dd>\n",
       "\t<dt>texture_se</dt>\n",
       "\t\t<dd>1.21685342706503</dd>\n",
       "\t<dt>perimeter_se</dt>\n",
       "\t\t<dd>2.86605922671353</dd>\n",
       "\t<dt>area_se</dt>\n",
       "\t\t<dd>40.337079086116</dd>\n",
       "\t<dt>smoothness_se</dt>\n",
       "\t\t<dd>0.00704097891036907</dd>\n",
       "\t<dt>compactness_se</dt>\n",
       "\t\t<dd>0.0254781388400703</dd>\n",
       "\t<dt>concavity_se</dt>\n",
       "\t\t<dd>0.031893716344464</dd>\n",
       "\t<dt>concave.points_se</dt>\n",
       "\t\t<dd>0.0117961370826011</dd>\n",
       "\t<dt>symmetry_se</dt>\n",
       "\t\t<dd>0.0205422987697715</dd>\n",
       "\t<dt>fractal_dimension_se</dt>\n",
       "\t\t<dd>0.00379490386643234</dd>\n",
       "\t<dt>radius_worst</dt>\n",
       "\t\t<dd>16.2691898066784</dd>\n",
       "\t<dt>texture_worst</dt>\n",
       "\t\t<dd>25.677223198594</dd>\n",
       "\t<dt>perimeter_worst</dt>\n",
       "\t\t<dd>107.261212653779</dd>\n",
       "\t<dt>area_worst</dt>\n",
       "\t\t<dd>880.583128295255</dd>\n",
       "\t<dt>smoothness_worst</dt>\n",
       "\t\t<dd>0.132368594024605</dd>\n",
       "\t<dt>compactness_worst</dt>\n",
       "\t\t<dd>0.254265043936731</dd>\n",
       "\t<dt>concavity_worst</dt>\n",
       "\t\t<dd>0.272188483304042</dd>\n",
       "\t<dt>concave.points_worst</dt>\n",
       "\t\t<dd>0.114606223198594</dd>\n",
       "\t<dt>symmetry_worst</dt>\n",
       "\t\t<dd>0.290075571177504</dd>\n",
       "\t<dt>fractal_dimension_worst</dt>\n",
       "\t\t<dd>0.0839458172231986</dd>\n",
       "</dl>\n"
      ],
      "text/latex": [
       "\\begin{description*}\n",
       "\\item[radius\\textbackslash{}\\_mean] 14.1272917398946\n",
       "\\item[texture\\textbackslash{}\\_mean] 19.2896485061511\n",
       "\\item[perimeter\\textbackslash{}\\_mean] 91.9690333919156\n",
       "\\item[area\\textbackslash{}\\_mean] 654.889103690685\n",
       "\\item[smoothness\\textbackslash{}\\_mean] 0.0963602811950791\n",
       "\\item[compactness\\textbackslash{}\\_mean] 0.104340984182777\n",
       "\\item[concavity\\textbackslash{}\\_mean] 0.0887993158172232\n",
       "\\item[concave.points\\textbackslash{}\\_mean] 0.0489191458699473\n",
       "\\item[symmetry\\textbackslash{}\\_mean] 0.181161862917399\n",
       "\\item[fractal\\textbackslash{}\\_dimension\\textbackslash{}\\_mean] 0.0627976098418278\n",
       "\\item[radius\\textbackslash{}\\_se] 0.405172056239016\n",
       "\\item[texture\\textbackslash{}\\_se] 1.21685342706503\n",
       "\\item[perimeter\\textbackslash{}\\_se] 2.86605922671353\n",
       "\\item[area\\textbackslash{}\\_se] 40.337079086116\n",
       "\\item[smoothness\\textbackslash{}\\_se] 0.00704097891036907\n",
       "\\item[compactness\\textbackslash{}\\_se] 0.0254781388400703\n",
       "\\item[concavity\\textbackslash{}\\_se] 0.031893716344464\n",
       "\\item[concave.points\\textbackslash{}\\_se] 0.0117961370826011\n",
       "\\item[symmetry\\textbackslash{}\\_se] 0.0205422987697715\n",
       "\\item[fractal\\textbackslash{}\\_dimension\\textbackslash{}\\_se] 0.00379490386643234\n",
       "\\item[radius\\textbackslash{}\\_worst] 16.2691898066784\n",
       "\\item[texture\\textbackslash{}\\_worst] 25.677223198594\n",
       "\\item[perimeter\\textbackslash{}\\_worst] 107.261212653779\n",
       "\\item[area\\textbackslash{}\\_worst] 880.583128295255\n",
       "\\item[smoothness\\textbackslash{}\\_worst] 0.132368594024605\n",
       "\\item[compactness\\textbackslash{}\\_worst] 0.254265043936731\n",
       "\\item[concavity\\textbackslash{}\\_worst] 0.272188483304042\n",
       "\\item[concave.points\\textbackslash{}\\_worst] 0.114606223198594\n",
       "\\item[symmetry\\textbackslash{}\\_worst] 0.290075571177504\n",
       "\\item[fractal\\textbackslash{}\\_dimension\\textbackslash{}\\_worst] 0.0839458172231986\n",
       "\\end{description*}\n"
      ],
      "text/markdown": [
       "radius_mean\n",
       ":   14.1272917398946texture_mean\n",
       ":   19.2896485061511perimeter_mean\n",
       ":   91.9690333919156area_mean\n",
       ":   654.889103690685smoothness_mean\n",
       ":   0.0963602811950791compactness_mean\n",
       ":   0.104340984182777concavity_mean\n",
       ":   0.0887993158172232concave.points_mean\n",
       ":   0.0489191458699473symmetry_mean\n",
       ":   0.181161862917399fractal_dimension_mean\n",
       ":   0.0627976098418278radius_se\n",
       ":   0.405172056239016texture_se\n",
       ":   1.21685342706503perimeter_se\n",
       ":   2.86605922671353area_se\n",
       ":   40.337079086116smoothness_se\n",
       ":   0.00704097891036907compactness_se\n",
       ":   0.0254781388400703concavity_se\n",
       ":   0.031893716344464concave.points_se\n",
       ":   0.0117961370826011symmetry_se\n",
       ":   0.0205422987697715fractal_dimension_se\n",
       ":   0.00379490386643234radius_worst\n",
       ":   16.2691898066784texture_worst\n",
       ":   25.677223198594perimeter_worst\n",
       ":   107.261212653779area_worst\n",
       ":   880.583128295255smoothness_worst\n",
       ":   0.132368594024605compactness_worst\n",
       ":   0.254265043936731concavity_worst\n",
       ":   0.272188483304042concave.points_worst\n",
       ":   0.114606223198594symmetry_worst\n",
       ":   0.290075571177504fractal_dimension_worst\n",
       ":   0.0839458172231986\n",
       "\n"
      ],
      "text/plain": [
       "            radius_mean            texture_mean          perimeter_mean \n",
       "           1.412729e+01            1.928965e+01            9.196903e+01 \n",
       "              area_mean         smoothness_mean        compactness_mean \n",
       "           6.548891e+02            9.636028e-02            1.043410e-01 \n",
       "         concavity_mean     concave.points_mean           symmetry_mean \n",
       "           8.879932e-02            4.891915e-02            1.811619e-01 \n",
       " fractal_dimension_mean               radius_se              texture_se \n",
       "           6.279761e-02            4.051721e-01            1.216853e+00 \n",
       "           perimeter_se                 area_se           smoothness_se \n",
       "           2.866059e+00            4.033708e+01            7.040979e-03 \n",
       "         compactness_se            concavity_se       concave.points_se \n",
       "           2.547814e-02            3.189372e-02            1.179614e-02 \n",
       "            symmetry_se    fractal_dimension_se            radius_worst \n",
       "           2.054230e-02            3.794904e-03            1.626919e+01 \n",
       "          texture_worst         perimeter_worst              area_worst \n",
       "           2.567722e+01            1.072612e+02            8.805831e+02 \n",
       "       smoothness_worst       compactness_worst         concavity_worst \n",
       "           1.323686e-01            2.542650e-01            2.721885e-01 \n",
       "   concave.points_worst          symmetry_worst fractal_dimension_worst \n",
       "           1.146062e-01            2.900756e-01            8.394582e-02 "
      ]
     },
     "metadata": {},
     "output_type": "display_data"
    }
   ],
   "source": [
    "# Check column means and standard deviations\n",
    "colMeans(wisc.data)"
   ]
  },
  {
   "cell_type": "code",
   "execution_count": 75,
   "metadata": {},
   "outputs": [
    {
     "data": {
      "text/html": [
       "<dl class=dl-horizontal>\n",
       "\t<dt>radius_mean</dt>\n",
       "\t\t<dd>3.52404882621208</dd>\n",
       "\t<dt>texture_mean</dt>\n",
       "\t\t<dd>4.30103576816695</dd>\n",
       "\t<dt>perimeter_mean</dt>\n",
       "\t\t<dd>24.2989810387549</dd>\n",
       "\t<dt>area_mean</dt>\n",
       "\t\t<dd>351.914129181653</dd>\n",
       "\t<dt>smoothness_mean</dt>\n",
       "\t\t<dd>0.0140641281376736</dd>\n",
       "\t<dt>compactness_mean</dt>\n",
       "\t\t<dd>0.0528127579325122</dd>\n",
       "\t<dt>concavity_mean</dt>\n",
       "\t\t<dd>0.0797198087078935</dd>\n",
       "\t<dt>concave.points_mean</dt>\n",
       "\t\t<dd>0.0388028448591536</dd>\n",
       "\t<dt>symmetry_mean</dt>\n",
       "\t\t<dd>0.0274142813360357</dd>\n",
       "\t<dt>fractal_dimension_mean</dt>\n",
       "\t\t<dd>0.00706036279508446</dd>\n",
       "\t<dt>radius_se</dt>\n",
       "\t\t<dd>0.277312732986104</dd>\n",
       "\t<dt>texture_se</dt>\n",
       "\t\t<dd>0.551648392617202</dd>\n",
       "\t<dt>perimeter_se</dt>\n",
       "\t\t<dd>2.02185455404211</dd>\n",
       "\t<dt>area_se</dt>\n",
       "\t\t<dd>45.4910055161318</dd>\n",
       "\t<dt>smoothness_se</dt>\n",
       "\t\t<dd>0.00300251794383907</dd>\n",
       "\t<dt>compactness_se</dt>\n",
       "\t\t<dd>0.0179081793256774</dd>\n",
       "\t<dt>concavity_se</dt>\n",
       "\t\t<dd>0.0301860603229884</dd>\n",
       "\t<dt>concave.points_se</dt>\n",
       "\t\t<dd>0.00617028517404687</dd>\n",
       "\t<dt>symmetry_se</dt>\n",
       "\t\t<dd>0.0082663715287984</dd>\n",
       "\t<dt>fractal_dimension_se</dt>\n",
       "\t\t<dd>0.0026460709670892</dd>\n",
       "\t<dt>radius_worst</dt>\n",
       "\t\t<dd>4.83324158046932</dd>\n",
       "\t<dt>texture_worst</dt>\n",
       "\t\t<dd>6.14625762303832</dd>\n",
       "\t<dt>perimeter_worst</dt>\n",
       "\t\t<dd>33.6025422690364</dd>\n",
       "\t<dt>area_worst</dt>\n",
       "\t\t<dd>569.356992669949</dd>\n",
       "\t<dt>smoothness_worst</dt>\n",
       "\t\t<dd>0.0228324294048355</dd>\n",
       "\t<dt>compactness_worst</dt>\n",
       "\t\t<dd>0.157336488913742</dd>\n",
       "\t<dt>concavity_worst</dt>\n",
       "\t\t<dd>0.208624280608132</dd>\n",
       "\t<dt>concave.points_worst</dt>\n",
       "\t\t<dd>0.0657323411959421</dd>\n",
       "\t<dt>symmetry_worst</dt>\n",
       "\t\t<dd>0.0618674675375187</dd>\n",
       "\t<dt>fractal_dimension_worst</dt>\n",
       "\t\t<dd>0.018061267348894</dd>\n",
       "</dl>\n"
      ],
      "text/latex": [
       "\\begin{description*}\n",
       "\\item[radius\\textbackslash{}\\_mean] 3.52404882621208\n",
       "\\item[texture\\textbackslash{}\\_mean] 4.30103576816695\n",
       "\\item[perimeter\\textbackslash{}\\_mean] 24.2989810387549\n",
       "\\item[area\\textbackslash{}\\_mean] 351.914129181653\n",
       "\\item[smoothness\\textbackslash{}\\_mean] 0.0140641281376736\n",
       "\\item[compactness\\textbackslash{}\\_mean] 0.0528127579325122\n",
       "\\item[concavity\\textbackslash{}\\_mean] 0.0797198087078935\n",
       "\\item[concave.points\\textbackslash{}\\_mean] 0.0388028448591536\n",
       "\\item[symmetry\\textbackslash{}\\_mean] 0.0274142813360357\n",
       "\\item[fractal\\textbackslash{}\\_dimension\\textbackslash{}\\_mean] 0.00706036279508446\n",
       "\\item[radius\\textbackslash{}\\_se] 0.277312732986104\n",
       "\\item[texture\\textbackslash{}\\_se] 0.551648392617202\n",
       "\\item[perimeter\\textbackslash{}\\_se] 2.02185455404211\n",
       "\\item[area\\textbackslash{}\\_se] 45.4910055161318\n",
       "\\item[smoothness\\textbackslash{}\\_se] 0.00300251794383907\n",
       "\\item[compactness\\textbackslash{}\\_se] 0.0179081793256774\n",
       "\\item[concavity\\textbackslash{}\\_se] 0.0301860603229884\n",
       "\\item[concave.points\\textbackslash{}\\_se] 0.00617028517404687\n",
       "\\item[symmetry\\textbackslash{}\\_se] 0.0082663715287984\n",
       "\\item[fractal\\textbackslash{}\\_dimension\\textbackslash{}\\_se] 0.0026460709670892\n",
       "\\item[radius\\textbackslash{}\\_worst] 4.83324158046932\n",
       "\\item[texture\\textbackslash{}\\_worst] 6.14625762303832\n",
       "\\item[perimeter\\textbackslash{}\\_worst] 33.6025422690364\n",
       "\\item[area\\textbackslash{}\\_worst] 569.356992669949\n",
       "\\item[smoothness\\textbackslash{}\\_worst] 0.0228324294048355\n",
       "\\item[compactness\\textbackslash{}\\_worst] 0.157336488913742\n",
       "\\item[concavity\\textbackslash{}\\_worst] 0.208624280608132\n",
       "\\item[concave.points\\textbackslash{}\\_worst] 0.0657323411959421\n",
       "\\item[symmetry\\textbackslash{}\\_worst] 0.0618674675375187\n",
       "\\item[fractal\\textbackslash{}\\_dimension\\textbackslash{}\\_worst] 0.018061267348894\n",
       "\\end{description*}\n"
      ],
      "text/markdown": [
       "radius_mean\n",
       ":   3.52404882621208texture_mean\n",
       ":   4.30103576816695perimeter_mean\n",
       ":   24.2989810387549area_mean\n",
       ":   351.914129181653smoothness_mean\n",
       ":   0.0140641281376736compactness_mean\n",
       ":   0.0528127579325122concavity_mean\n",
       ":   0.0797198087078935concave.points_mean\n",
       ":   0.0388028448591536symmetry_mean\n",
       ":   0.0274142813360357fractal_dimension_mean\n",
       ":   0.00706036279508446radius_se\n",
       ":   0.277312732986104texture_se\n",
       ":   0.551648392617202perimeter_se\n",
       ":   2.02185455404211area_se\n",
       ":   45.4910055161318smoothness_se\n",
       ":   0.00300251794383907compactness_se\n",
       ":   0.0179081793256774concavity_se\n",
       ":   0.0301860603229884concave.points_se\n",
       ":   0.00617028517404687symmetry_se\n",
       ":   0.0082663715287984fractal_dimension_se\n",
       ":   0.0026460709670892radius_worst\n",
       ":   4.83324158046932texture_worst\n",
       ":   6.14625762303832perimeter_worst\n",
       ":   33.6025422690364area_worst\n",
       ":   569.356992669949smoothness_worst\n",
       ":   0.0228324294048355compactness_worst\n",
       ":   0.157336488913742concavity_worst\n",
       ":   0.208624280608132concave.points_worst\n",
       ":   0.0657323411959421symmetry_worst\n",
       ":   0.0618674675375187fractal_dimension_worst\n",
       ":   0.018061267348894\n",
       "\n"
      ],
      "text/plain": [
       "            radius_mean            texture_mean          perimeter_mean \n",
       "           3.524049e+00            4.301036e+00            2.429898e+01 \n",
       "              area_mean         smoothness_mean        compactness_mean \n",
       "           3.519141e+02            1.406413e-02            5.281276e-02 \n",
       "         concavity_mean     concave.points_mean           symmetry_mean \n",
       "           7.971981e-02            3.880284e-02            2.741428e-02 \n",
       " fractal_dimension_mean               radius_se              texture_se \n",
       "           7.060363e-03            2.773127e-01            5.516484e-01 \n",
       "           perimeter_se                 area_se           smoothness_se \n",
       "           2.021855e+00            4.549101e+01            3.002518e-03 \n",
       "         compactness_se            concavity_se       concave.points_se \n",
       "           1.790818e-02            3.018606e-02            6.170285e-03 \n",
       "            symmetry_se    fractal_dimension_se            radius_worst \n",
       "           8.266372e-03            2.646071e-03            4.833242e+00 \n",
       "          texture_worst         perimeter_worst              area_worst \n",
       "           6.146258e+00            3.360254e+01            5.693570e+02 \n",
       "       smoothness_worst       compactness_worst         concavity_worst \n",
       "           2.283243e-02            1.573365e-01            2.086243e-01 \n",
       "   concave.points_worst          symmetry_worst fractal_dimension_worst \n",
       "           6.573234e-02            6.186747e-02            1.806127e-02 "
      ]
     },
     "metadata": {},
     "output_type": "display_data"
    }
   ],
   "source": [
    "apply(wisc.data, 2, sd)"
   ]
  },
  {
   "cell_type": "code",
   "execution_count": 76,
   "metadata": {},
   "outputs": [
    {
     "data": {
      "text/plain": [
       "Importance of components:\n",
       "                          PC1    PC2     PC3     PC4     PC5     PC6     PC7\n",
       "Standard deviation     3.6444 2.3857 1.67867 1.40735 1.28403 1.09880 0.82172\n",
       "Proportion of Variance 0.4427 0.1897 0.09393 0.06602 0.05496 0.04025 0.02251\n",
       "Cumulative Proportion  0.4427 0.6324 0.72636 0.79239 0.84734 0.88759 0.91010\n",
       "                           PC8    PC9    PC10   PC11    PC12    PC13    PC14\n",
       "Standard deviation     0.69037 0.6457 0.59219 0.5421 0.51104 0.49128 0.39624\n",
       "Proportion of Variance 0.01589 0.0139 0.01169 0.0098 0.00871 0.00805 0.00523\n",
       "Cumulative Proportion  0.92598 0.9399 0.95157 0.9614 0.97007 0.97812 0.98335\n",
       "                          PC15    PC16    PC17    PC18    PC19    PC20   PC21\n",
       "Standard deviation     0.30681 0.28260 0.24372 0.22939 0.22244 0.17652 0.1731\n",
       "Proportion of Variance 0.00314 0.00266 0.00198 0.00175 0.00165 0.00104 0.0010\n",
       "Cumulative Proportion  0.98649 0.98915 0.99113 0.99288 0.99453 0.99557 0.9966\n",
       "                          PC22    PC23   PC24    PC25    PC26    PC27    PC28\n",
       "Standard deviation     0.16565 0.15602 0.1344 0.12442 0.09043 0.08307 0.03987\n",
       "Proportion of Variance 0.00091 0.00081 0.0006 0.00052 0.00027 0.00023 0.00005\n",
       "Cumulative Proportion  0.99749 0.99830 0.9989 0.99942 0.99969 0.99992 0.99997\n",
       "                          PC29    PC30\n",
       "Standard deviation     0.02736 0.01153\n",
       "Proportion of Variance 0.00002 0.00000\n",
       "Cumulative Proportion  1.00000 1.00000"
      ]
     },
     "metadata": {},
     "output_type": "display_data"
    }
   ],
   "source": [
    "# Execute PCA, scaling if appropriate: wisc.pr\n",
    "wisc.pr <- prcomp(wisc.data, center=T, scale=T)\n",
    "\n",
    "# Look at summary of results\n",
    "summary(wisc.pr)"
   ]
  },
  {
   "cell_type": "markdown",
   "metadata": {},
   "source": [
    "### Interpreting PCA results\n",
    "Now we'll use some visualizations to better understand the PCA model. \n"
   ]
  },
  {
   "cell_type": "code",
   "execution_count": 77,
   "metadata": {},
   "outputs": [
    {
     "data": {
      "image/png": "[encoded data removed]",
      "text/plain": [
       "plot without title"
      ]
     },
     "metadata": {},
     "output_type": "display_data"
    }
   ],
   "source": [
    "# Create a biplot of wisc.pr\n",
    "biplot(wisc.pr)"
   ]
  },
  {
   "cell_type": "code",
   "execution_count": 78,
   "metadata": {},
   "outputs": [
    {
     "data": {
      "image/png": "[encoded data removed]",
      "text/plain": [
       "plot without title"
      ]
     },
     "metadata": {},
     "output_type": "display_data"
    }
   ],
   "source": [
    "# Scatter plot observations by components 1 and 2\n",
    "plot(wisc.pr$x[, c(1, 2)], col = (diagnosis + 1), \n",
    "     xlab = \"PC1\", ylab = \"PC2\")"
   ]
  },
  {
   "cell_type": "code",
   "execution_count": 79,
   "metadata": {},
   "outputs": [
    {
     "data": {
      "image/png": "[encoded data removed]",
      "text/plain": [
       "plot without title"
      ]
     },
     "metadata": {},
     "output_type": "display_data"
    }
   ],
   "source": [
    "# Repeat for components 1 and 3\n",
    "plot(wisc.pr$x[, c(1,3)], col = (diagnosis + 1), \n",
    "     xlab = \"PC1\", ylab = \"PC3\")\n",
    "\n"
   ]
  },
  {
   "cell_type": "code",
   "execution_count": 80,
   "metadata": {},
   "outputs": [
    {
     "data": {
      "image/png": "[encoded data removed]",
      "text/plain": [
       "plot without title"
      ]
     },
     "metadata": {},
     "output_type": "display_data"
    }
   ],
   "source": [
    "# Do additional data exploration of your choosing below (optional)\n",
    "plot(wisc.pr$x[, c(2,3)], col = (diagnosis + 1), \n",
    "     xlab = \"PC2\", ylab = \"PC3\")\n"
   ]
  },
  {
   "cell_type": "markdown",
   "metadata": {},
   "source": [
    "Because principal component 2 explains more variance in the original data than principal component 3, you can see that the first plot has a cleaner cut separating the two subgroups."
   ]
  },
  {
   "cell_type": "markdown",
   "metadata": {},
   "source": [
    "### Variance explained\n",
    "\n",
    "We will produce scree plots showing the proportion of variance explained as the number of principal components increases. The data from PCA must be prepared for these plots, as there is not a built-in function in R to create them directly from the PCA model.\n"
   ]
  },
  {
   "cell_type": "code",
   "execution_count": 81,
   "metadata": {},
   "outputs": [
    {
     "data": {
      "image/png": "[encoded data removed]",
      "text/plain": [
       "plot without title"
      ]
     },
     "metadata": {},
     "output_type": "display_data"
    }
   ],
   "source": [
    "# Set up 1 x 2 plotting grid\n",
    "par(mfrow = c(1, 2))\n",
    "\n",
    "# Calculate variability of each component\n",
    "pr.var <- wisc.pr$sdev^2\n",
    "\n",
    "# Variance explained by each principal component: pve\n",
    "pve <- pr.var/sum(pr.var)\n",
    "\n",
    "# Plot variance explained for each principal component\n",
    "plot(pve, xlab = \"Principal Component\", \n",
    "     ylab = \"Proportion of Variance Explained\", \n",
    "     ylim = c(0, 1), type = \"b\")"
   ]
  },
  {
   "cell_type": "code",
   "execution_count": 82,
   "metadata": {},
   "outputs": [
    {
     "data": {
      "image/png": "[encoded data removed]",
      "text/plain": [
       "plot without title"
      ]
     },
     "metadata": {},
     "output_type": "display_data"
    }
   ],
   "source": [
    "# Plot cumulative proportion of variance explained\n",
    "plot(cumsum(pve), xlab = \"Principal Component\", \n",
    "     ylab = \"Cumulative Proportion of Variance Explained\", \n",
    "     ylim = c(0, 1), type = \"b\")"
   ]
  },
  {
   "cell_type": "markdown",
   "metadata": {},
   "source": [
    "### Next steps\n",
    "- Complete hierarchical clustering\n",
    "- Complete k-means clustering\n",
    "- Combine PCA and clustering\n",
    "- Contrast results of hierarchical clustering with diagnosis\n",
    "- Compare hierarchical and k-means clustering results\n",
    "- PCA as a pre-processing step for clustering\n"
   ]
  },
  {
   "cell_type": "markdown",
   "metadata": {},
   "source": [
    "### Hierarchical clustering of case data\n",
    "\n",
    "We will do hierarchical clustering of the observations. This type of clustering does not assume in advance the number of natural groups that exist in the data.\n",
    "\n",
    "As part of the preparation for hierarchical clustering, distance between all pairs of observations are computed. Furthermore, there are different ways to link clusters together, with single, complete, and average being the most common linkage methods."
   ]
  },
  {
   "cell_type": "code",
   "execution_count": 83,
   "metadata": {},
   "outputs": [],
   "source": [
    "# Scale the wisc.data data: data.scaled\n",
    "data.scaled <- scale(wisc.data)\n",
    "\n",
    "# Calculate the (Euclidean) distances: data.dist\n",
    "data.dist <- dist(data.scaled)\n",
    "\n",
    "# Create a hierarchical clustering model: wisc.hclust\n",
    "wisc.hclust <- hclust(data.dist, method=\"complete\")"
   ]
  },
  {
   "cell_type": "markdown",
   "metadata": {},
   "source": [
    "### Results of hierarchical clustering"
   ]
  },
  {
   "cell_type": "code",
   "execution_count": 84,
   "metadata": {},
   "outputs": [
    {
     "data": {
      "image/png": "[encoded data removed]",
      "text/plain": [
       "Plot with title \"Cluster Dendrogram\""
      ]
     },
     "metadata": {},
     "output_type": "display_data"
    }
   ],
   "source": [
    "plot(wisc.hclust)"
   ]
  },
  {
   "cell_type": "markdown",
   "metadata": {},
   "source": [
    "### Selecting number of clusters\n",
    "\n",
    "We will compare the outputs from your hierarchical clustering model to the actual diagnoses. Normally when performing unsupervised learning like this, a target variable isn't available. We do have it with this dataset, however, so it can be used to check the performance of the clustering model.\n",
    "\n",
    "When performing supervised learning—that is, when we're trying to predict some target variable of interest and that target variable is available in the original data—using clustering to create new features may or may not improve the performance of the final model."
   ]
  },
  {
   "cell_type": "code",
   "execution_count": 85,
   "metadata": {},
   "outputs": [
    {
     "data": {
      "text/plain": [
       "                    diagnosis\n",
       "wisc.hclust.clusters   0   1\n",
       "                   1  12 165\n",
       "                   2   2   5\n",
       "                   3 343  40\n",
       "                   4   0   2"
      ]
     },
     "metadata": {},
     "output_type": "display_data"
    }
   ],
   "source": [
    "# Cut tree so that it has 4 clusters: wisc.hclust.clusters\n",
    "wisc.hclust.clusters <- cutree(wisc.hclust, k=4)\n",
    "\n",
    "# Compare cluster membership to actual diagnoses\n",
    "table(wisc.hclust.clusters, diagnosis)"
   ]
  },
  {
   "cell_type": "markdown",
   "metadata": {},
   "source": [
    "Four clusters were picked after some exploration. Before moving on, we may want to explore how different numbers of clusters affect the ability of the hierarchical clustering to separate the different diagnoses"
   ]
  },
  {
   "cell_type": "markdown",
   "metadata": {},
   "source": [
    "### k-means clustering and comparing results\n",
    "\n",
    "There are two main types of clustering: hierarchical and k-means.\n",
    "\n",
    "We will create a k-means clustering model on the Wisconsin breast cancer data and compare the results to the actual diagnoses and the results of your hierarchical clustering model."
   ]
  },
  {
   "cell_type": "code",
   "execution_count": 86,
   "metadata": {},
   "outputs": [
    {
     "data": {
      "text/plain": [
       "   diagnosis\n",
       "      0   1\n",
       "  1  14 175\n",
       "  2 343  37"
      ]
     },
     "metadata": {},
     "output_type": "display_data"
    }
   ],
   "source": [
    "# Create a k-means model on wisc.data: wisc.km\n",
    "wisc.km <- kmeans(scale(wisc.data), centers=2, nstart=20)\n",
    "\n",
    "# Compare k-means to actual diagnoses\n",
    "table(wisc.km$cluster, diagnosis)"
   ]
  },
  {
   "cell_type": "code",
   "execution_count": 87,
   "metadata": {},
   "outputs": [
    {
     "data": {
      "text/plain": [
       "   wisc.hclust.clusters\n",
       "      1   2   3   4\n",
       "  1 160   7  20   2\n",
       "  2  17   0 363   0"
      ]
     },
     "metadata": {},
     "output_type": "display_data"
    }
   ],
   "source": [
    "# Compare k-means to hierarchical clustering\n",
    "table(wisc.km$cluster, wisc.hclust.clusters)"
   ]
  },
  {
   "cell_type": "markdown",
   "metadata": {},
   "source": [
    "Looking at the second table you generated, it looks like clusters 1, 2, and 4 from the hierarchical clustering model can be interpreted as the cluster 1 equivalent from the k-means algorithm, and cluster 3 can be interpreted as the cluster 2 equivalent."
   ]
  },
  {
   "cell_type": "markdown",
   "metadata": {},
   "source": [
    "### Clustering on PCA results\n",
    "\n",
    "We will put together several steps used earlier and, in doing so, we will experience some of the creativity that is typical in unsupervised learning.\n",
    "\n",
    "The PCA model required significantly fewer features to describe 80% and 95% of the variability of the data. In addition to normalizing data and potentially avoiding overfitting, PCA also uncorrelates the variables, sometimes improving the performance of other modeling techniques.\n",
    "\n",
    "Let's see if PCA improves or degrades the performance of hierarchical clustering."
   ]
  },
  {
   "cell_type": "code",
   "execution_count": 88,
   "metadata": {},
   "outputs": [
    {
     "data": {
      "text/plain": [
       "                       diagnosis\n",
       "wisc.pr.hclust.clusters   0   1\n",
       "                      1   5 113\n",
       "                      2 350  97\n",
       "                      3   2   0\n",
       "                      4   0   2"
      ]
     },
     "metadata": {},
     "output_type": "display_data"
    }
   ],
   "source": [
    "# Create a hierarchical clustering model: wisc.pr.hclust\n",
    "wisc.pr.hclust <- hclust(dist(wisc.pr$x[, 1:7]), method = \"complete\")\n",
    "\n",
    "# Cut model into 4 clusters: wisc.pr.hclust.clusters\n",
    "wisc.pr.hclust.clusters <- cutree(wisc.pr.hclust, k=4)\n",
    "\n",
    "# Compare to actual diagnoses\n",
    "table(wisc.pr.hclust.clusters, diagnosis)"
   ]
  },
  {
   "cell_type": "code",
   "execution_count": 89,
   "metadata": {},
   "outputs": [
    {
     "data": {
      "text/plain": [
       "                    diagnosis\n",
       "wisc.hclust.clusters   0   1\n",
       "                   1  12 165\n",
       "                   2   2   5\n",
       "                   3 343  40\n",
       "                   4   0   2"
      ]
     },
     "metadata": {},
     "output_type": "display_data"
    }
   ],
   "source": [
    "table(wisc.hclust.clusters, diagnosis)"
   ]
  },
  {
   "cell_type": "code",
   "execution_count": 90,
   "metadata": {},
   "outputs": [
    {
     "data": {
      "text/plain": [
       "   diagnosis\n",
       "      0   1\n",
       "  1  14 175\n",
       "  2 343  37"
      ]
     },
     "metadata": {},
     "output_type": "display_data"
    }
   ],
   "source": [
    "# Compare to k-means and hierarchical\n",
    "table(wisc.km$cluster, diagnosis)"
   ]
  }
 ],
 "metadata": {
  "kernelspec": {
   "display_name": "R",
   "language": "R",
   "name": "ir"
  },
  "language_info": {
   "codemirror_mode": "r",
   "file_extension": ".r",
   "mimetype": "text/x-r-source",
   "name": "R",
   "pygments_lexer": "r",
   "version": "3.6.1"
  }
 },
 "nbformat": 4,
 "nbformat_minor": 4
}
